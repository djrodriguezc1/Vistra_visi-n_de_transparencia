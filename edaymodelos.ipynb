{
 "cells": [
  {
   "cell_type": "code",
   "execution_count": 1,
   "id": "b7bfc258",
   "metadata": {},
   "outputs": [
    {
     "name": "stderr",
     "output_type": "stream",
     "text": [
      "Picked up _JAVA_OPTIONS: -Xmx12288m\n",
      "Picked up _JAVA_OPTIONS: -Xmx12288m\n",
      "23/05/16 21:40:17 WARN Utils: Your hostname, joanPC resolves to a loopback address: 127.0.1.1; using 192.168.1.201 instead (on interface wlo1)\n",
      "23/05/16 21:40:17 WARN Utils: Set SPARK_LOCAL_IP if you need to bind to another address\n",
      "Setting default log level to \"WARN\".\n",
      "To adjust logging level use sc.setLogLevel(newLevel). For SparkR, use setLogLevel(newLevel).\n",
      "23/05/16 21:40:17 WARN NativeCodeLoader: Unable to load native-hadoop library for your platform... using builtin-java classes where applicable\n",
      "23/05/16 21:40:18 WARN Utils: Service 'SparkUI' could not bind on port 4040. Attempting port 4041.\n"
     ]
    }
   ],
   "source": [
    "# Manejo de dataframes y series\n",
    "import pandas as pd\n",
    "# Librerías para generación de gráficos\n",
    "import matplotlib.pyplot as plt\n",
    "import seaborn as sns\n",
    "\n",
    "\n",
    "#Create a SparkSession object\n",
    "from pyspark.sql import SparkSession\n",
    "spark = SparkSession.builder.appName('secop').getOrCreate()\n",
    "\n",
    "from pyspark.ml.clustering import KMeans\n",
    "from pyspark.ml.linalg import Vectors\n",
    "from pyspark.ml.feature import VectorAssembler\n",
    "from pyspark.sql.types import IntegerType\n",
    "from pyspark.sql.functions import regexp_replace\n",
    "import sys\n",
    "if not sys.warnoptions:\n",
    "    import warnings\n",
    "    warnings.simplefilter(\"ignore\")\n",
    "spark.sparkContext.setLogLevel(\"ERROR\")\n"
   ]
  },
  {
   "cell_type": "code",
   "execution_count": 2,
   "id": "51921df2",
   "metadata": {},
   "outputs": [
    {
     "name": "stderr",
     "output_type": "stream",
     "text": [
      "                                                                                \r"
     ]
    }
   ],
   "source": [
    "sdf = spark.read.options(inferSchema='True',\n",
    "              header='True').csv('SECOP_1_.csv')"
   ]
  },
  {
   "cell_type": "code",
   "execution_count": 3,
   "id": "ec47f7da",
   "metadata": {},
   "outputs": [
    {
     "name": "stdout",
     "output_type": "stream",
     "text": [
      "root\n",
      " |-- UID: string (nullable = true)\n",
      " |-- Anno Cargue SECOP: string (nullable = true)\n",
      " |-- Anno Firma del Contrato: integer (nullable = true)\n",
      " |-- Nivel Entidad: string (nullable = true)\n",
      " |-- Orden Entidad: string (nullable = true)\n",
      " |-- Nombre de la Entidad: string (nullable = true)\n",
      " |-- NIT de la Entidad: string (nullable = true)\n",
      " |-- Código de la Entidad: string (nullable = true)\n",
      " |-- ID Tipo de Proceso: integer (nullable = true)\n",
      " |-- Tipo de Proceso: string (nullable = true)\n",
      " |-- Estado del Proceso: string (nullable = true)\n",
      " |-- Causal de Otras Formas de Contratacion Directa: string (nullable = true)\n",
      " |-- ID Regimen de Contratacion: integer (nullable = true)\n",
      " |-- Regimen de Contratacion: string (nullable = true)\n",
      " |-- ID Objeto a Contratar: integer (nullable = true)\n",
      " |-- Objeto a Contratar: string (nullable = true)\n",
      " |-- Detalle del Objeto a Contratar: string (nullable = true)\n",
      " |-- Tipo de Contrato: string (nullable = true)\n",
      " |-- Municipio Obtencion: string (nullable = true)\n",
      " |-- Municipio Entrega: string (nullable = true)\n",
      " |-- Municipios Ejecucion: string (nullable = true)\n",
      " |-- Fecha de Cargue en el SECOP: date (nullable = true)\n",
      " |-- Numero de Constancia: string (nullable = true)\n",
      " |-- Numero de Proceso: string (nullable = true)\n",
      " |-- Numero del Contrato: string (nullable = true)\n",
      " |-- Cuantia Proceso: string (nullable = true)\n",
      " |-- ID Grupo: string (nullable = true)\n",
      " |-- Nombre Grupo: string (nullable = true)\n",
      " |-- ID Familia: string (nullable = true)\n",
      " |-- Nombre Familia: string (nullable = true)\n",
      " |-- ID Clase: string (nullable = true)\n",
      " |-- Nombre Clase: string (nullable = true)\n",
      " |-- ID Ajudicacion: string (nullable = true)\n",
      " |-- Tipo Identifi del Contratista: string (nullable = true)\n",
      " |-- Identificacion del Contratista: string (nullable = true)\n",
      " |-- Nom Raz Social Contratista: string (nullable = true)\n",
      " |-- Dpto y Muni Contratista: string (nullable = true)\n",
      " |-- Tipo Doc Representante Legal: string (nullable = true)\n",
      " |-- Identific del Represen Legal: string (nullable = true)\n",
      " |-- Nombre del Represen Legal: string (nullable = true)\n",
      " |-- Fecha de Firma del Contrato: date (nullable = true)\n",
      " |-- Fecha Ini Ejec Contrato: date (nullable = true)\n",
      " |-- Plazo de Ejec del Contrato: integer (nullable = true)\n",
      " |-- Rango de Ejec del Contrato: string (nullable = true)\n",
      " |-- Tiempo Adiciones en Dias: integer (nullable = true)\n",
      " |-- Tiempo Adiciones en Meses: integer (nullable = true)\n",
      " |-- Fecha Fin Ejec Contrato: timestamp (nullable = true)\n",
      " |-- Compromiso Presupuestal: string (nullable = true)\n",
      " |-- Cuantia Contrato: string (nullable = true)\n",
      " |-- Valor Total de Adiciones: string (nullable = true)\n",
      " |-- Valor Contrato con Adiciones: string (nullable = true)\n",
      " |-- Objeto del Contrato a la Firma: string (nullable = true)\n",
      " |-- ID Origen de los Recursos: integer (nullable = true)\n",
      " |-- Origen de los Recursos: string (nullable = true)\n",
      " |-- Codigo BPIN: string (nullable = true)\n",
      " |-- Proponentes Seleccionados: string (nullable = true)\n",
      " |-- Calificacion Definitiva: string (nullable = true)\n",
      " |-- ID Sub Unidad Ejecutora: string (nullable = true)\n",
      " |-- Nombre Sub Unidad Ejecutora: string (nullable = true)\n",
      " |-- Ruta Proceso en SECOP I: string (nullable = true)\n",
      " |-- Moneda: string (nullable = true)\n",
      " |-- EsPostConflicto: string (nullable = true)\n",
      " |-- Marcacion Adiciones: integer (nullable = true)\n",
      " |-- Posicion Rubro: string (nullable = true)\n",
      " |-- Nombre Rubro: string (nullable = true)\n",
      " |-- Valor Rubro: string (nullable = true)\n",
      " |-- Sexo RepLegal Entidad: string (nullable = true)\n",
      " |-- Pilar Acuerdo Paz: string (nullable = true)\n",
      " |-- Punto Acuerdo Paz: string (nullable = true)\n",
      " |-- Municipio Entidad: string (nullable = true)\n",
      " |-- Departamento Entidad: string (nullable = true)\n",
      " |-- Ultima Actualizacion: date (nullable = true)\n",
      " |-- Fecha Liquidacion: date (nullable = true)\n",
      "\n"
     ]
    }
   ],
   "source": [
    "sdf.printSchema()"
   ]
  },
  {
   "cell_type": "code",
   "execution_count": 4,
   "id": "e4d992e5",
   "metadata": {},
   "outputs": [],
   "source": [
    "data_2=sdf.select('UID','Tipo de Proceso',\n",
    "        'Objeto a Contratar',\n",
    "      'Tipo de Contrato',\n",
    "       'Nombre Grupo', 'Nombre Clase',\n",
    "        'Nombre de la Entidad',\n",
    "       'Plazo de Ejec del Contrato', 'Rango de Ejec del Contrato',\n",
    "       'Cuantia Contrato','Valor Total de Adiciones',\n",
    "       'Origen de los Recursos',  'Municipio Entidad', 'Departamento Entidad'\n",
    "        )"
   ]
  },
  {
   "cell_type": "code",
   "execution_count": 7,
   "id": "e3872f82",
   "metadata": {},
   "outputs": [
    {
     "name": "stdout",
     "output_type": "stream",
     "text": [
      "+---------------------------------------------------------------------------------------+\n",
      "|Nombre de la Entidad                                                                   |\n",
      "+---------------------------------------------------------------------------------------+\n",
      "|ARAUCA  ESE MORENO Y CLAVIJO  ARAUCA                                                   |\n",
      "|ANTIOQUIA  ALCALDÍA MUNICIPIO DE HELICONIA                                             |\n",
      "|MAGDALENA  PERSONERÍA MUNICIPIO DE SAN SEBASTIAN DE BUENAVISTA                         |\n",
      "|ANTIOQUIA  ESE HOSPITAL PEDRO NEL CARDONA  ARBOLETES                                   |\n",
      "|RISARALDA  GOBERNACIÓN                                                                 |\n",
      "|ANTIOQUIA  ESE HOSPITAL SAN JUAN DE DIOS  SONSON                                       |\n",
      "|HUILA  ESE HOSPITAL DEL ROSARIO  CAMPOALEGRE                                           |\n",
      "|ANTIOQUIA  ALCALDÍA MUNICIPIO DE SABANETA                                              |\n",
      "|ANTIOQUIA  ALCALDÍA MUNICIPIO DE GUARNE                                                |\n",
      "|BOGOTÁ DC  SECRETARÍA DE INTEGRACIÓN SOCIAL                                            |\n",
      "|CAUCA  ALCALDÍA MUNICIPIO DE POPAYÁN                                                   |\n",
      "|MAGDALENA  COOPERATIVA DE SERVICIOS PÚBLICOS ACUAPINTO APC LTDA  SANTA BÁRBARA DE PINTO|\n",
      "|VALLE DEL CAUCA  ESE HOSPITAL RAÚL OREJUELA BUENO  PALMIRA                             |\n",
      "|NARIÑO  ESE HOSPITAL RICAURTE                                                          |\n",
      "|VALLE DEL CAUCA  ALCALDÍA MUNICIPIO DE CAICEDONIA                                      |\n",
      "|NARIÑO  GOBERNACIÓN                                                                    |\n",
      "|CESAR  ESE HOSPITAL JOSÉ ANTONIO SOCARRÁS SÁNCHEZ  MANAURE BALCÓN DEL CESAR            |\n",
      "|BOGOTÁ  CÁMARA DE COMERCIO DE BOGOTÁ                                                   |\n",
      "|CUNDINAMARCA  IED INSTITUTO NACIONAL DE PROMOCIÓN SOCIAL VILLETA CUNDINAMARCA  VILLETA |\n",
      "|SANTANDER  CAMARA DE COMERCIO DE BARRANCABERMEJA                                       |\n",
      "+---------------------------------------------------------------------------------------+\n",
      "only showing top 20 rows\n",
      "\n"
     ]
    }
   ],
   "source": [
    "data_2.select('Nombre de la Entidad').show(truncate=False)"
   ]
  },
  {
   "cell_type": "code",
   "execution_count": 5,
   "id": "a15a538a",
   "metadata": {},
   "outputs": [
    {
     "name": "stderr",
     "output_type": "stream",
     "text": [
      "                                                                                \r"
     ]
    },
    {
     "data": {
      "text/plain": [
       "10492"
      ]
     },
     "execution_count": 5,
     "metadata": {},
     "output_type": "execute_result"
    }
   ],
   "source": [
    "data_2.select('Nombre de la Entidad').distinct().count()"
   ]
  },
  {
   "cell_type": "code",
   "execution_count": 22,
   "id": "f2fdee1c",
   "metadata": {},
   "outputs": [
    {
     "name": "stderr",
     "output_type": "stream",
     "text": [
      "                                                                                \r"
     ]
    },
    {
     "data": {
      "text/plain": [
       "23"
      ]
     },
     "execution_count": 22,
     "metadata": {},
     "output_type": "execute_result"
    }
   ],
   "source": [
    "data_2.select('Tipo de Proceso').distinct().count()"
   ]
  },
  {
   "cell_type": "code",
   "execution_count": 18,
   "id": "67fd28b6",
   "metadata": {},
   "outputs": [
    {
     "name": "stdout",
     "output_type": "stream",
     "text": [
      "+-----------------------+------------------------+------------------------+--------------------+----------------+\n",
      "|Dpto y Muni Contratista|Valor Total de Adiciones|Valor Total de Adiciones|   Municipio Entidad|Cuantia Contrato|\n",
      "+-----------------------+------------------------+------------------------+--------------------+----------------+\n",
      "|                 Arauca|                       0|                       0|              Arauca|       1,082,118|\n",
      "|              Antioquia|                       0|                       0|           Heliconia|       8,000,000|\n",
      "|              Magdalena|                       0|                       0|San Sebastián de ...|       2,400,000|\n",
      "|              Antioquia|                       0|                       0|           Arboletes|       2,600,000|\n",
      "|              Risaralda|                       0|                       0|             Pereira|      39,396,000|\n",
      "|              Antioquia|                       0|                       0|              Sonsón|      13,606,667|\n",
      "|                  Huila|                       0|                       0|         Campoalegre|       1,015,000|\n",
      "|              Antioquia|                       0|                       0|            Sabaneta|       4,900,000|\n",
      "|              Antioquia|                       0|                       0|              Guarne|       3,500,000|\n",
      "|           Cundinamarca|                       0|                       0|         Bogotá D.C.|      13,903,000|\n",
      "|                  Cauca|                       0|                       0|             Popayán|       8,840,120|\n",
      "|              Magdalena|                       0|                       0|Santa Bárbara de ...|       3,000,000|\n",
      "|        Valle del Cauca|                       0|                       0|             Palmira|      15,000,000|\n",
      "|                 Nariño|                       0|                       0|            Ricaurte|       2,760,000|\n",
      "|        Valle del Cauca|                       0|                       0|          Caicedonia|      10,496,625|\n",
      "|                 Nariño|                       0|                       0|               Pasto|       5,000,000|\n",
      "|                  Cesar|                       0|                       0|Manaure Balcon de...|       2,660,000|\n",
      "|            Bogotá D.C.|               6,720,000|               6,720,000|         Bogotá D.C.|      70,240,000|\n",
      "|            No Definido|                       0|                       0|             Villeta|               0|\n",
      "|             California|                       0|                       0|     Barrancabermeja|         389,379|\n",
      "+-----------------------+------------------------+------------------------+--------------------+----------------+\n",
      "only showing top 20 rows\n",
      "\n"
     ]
    }
   ],
   "source": [
    "data_2.select('Dpto y Muni Contratista', 'Valor Total de Adiciones',\n",
    "       'Valor Total de Adiciones','Municipio Entidad','Cuantia Contrato').show()"
   ]
  },
  {
   "cell_type": "code",
   "execution_count": 27,
   "id": "c1763edb",
   "metadata": {},
   "outputs": [
    {
     "name": "stderr",
     "output_type": "stream",
     "text": [
      "[Stage 58:===================================================>  (124 + 6) / 130]\r"
     ]
    },
    {
     "name": "stdout",
     "output_type": "stream",
     "text": [
      "(11938117, 14)\n"
     ]
    },
    {
     "name": "stderr",
     "output_type": "stream",
     "text": [
      "\r",
      "                                                                                \r"
     ]
    }
   ],
   "source": [
    "print((data_2.count(), len(data_2.columns)))"
   ]
  },
  {
   "cell_type": "markdown",
   "id": "3406c3bc",
   "metadata": {},
   "source": [
    "### Eliminando duplicados"
   ]
  },
  {
   "cell_type": "code",
   "execution_count": 6,
   "id": "03b4270c",
   "metadata": {},
   "outputs": [
    {
     "name": "stderr",
     "output_type": "stream",
     "text": [
      "[Stage 10:==================================================>     (36 + 4) / 40]\r"
     ]
    },
    {
     "name": "stdout",
     "output_type": "stream",
     "text": [
      "Distinct count: 11230266\n"
     ]
    },
    {
     "name": "stderr",
     "output_type": "stream",
     "text": [
      "\r",
      "[Stage 10:===================================================>    (37 + 3) / 40]\r",
      "\r",
      "                                                                                \r"
     ]
    }
   ],
   "source": [
    "data_2 = data_2.distinct()\n",
    "print(\"Distinct count: \"+str(data_2.count()))\n"
   ]
  },
  {
   "cell_type": "code",
   "execution_count": 29,
   "id": "9ac37e32",
   "metadata": {},
   "outputs": [
    {
     "name": "stdout",
     "output_type": "stream",
     "text": [
      "Total duplicados:  707851\n"
     ]
    }
   ],
   "source": [
    "print(\"Total duplicados: \",11938117-11230266)\n"
   ]
  },
  {
   "cell_type": "code",
   "execution_count": 30,
   "id": "cdec2b66",
   "metadata": {},
   "outputs": [
    {
     "name": "stdout",
     "output_type": "stream",
     "text": [
      "UID , string\n",
      "Tipo de Proceso , string\n",
      "Objeto a Contratar , string\n",
      "Tipo de Contrato , string\n",
      "Nombre Grupo , string\n",
      "Nombre Clase , string\n",
      "Nombre de la Entidad , string\n",
      "Plazo de Ejec del Contrato , int\n",
      "Rango de Ejec del Contrato , string\n",
      "Cuantia Contrato , string\n",
      "Valor Total de Adiciones , string\n",
      "Origen de los Recursos , string\n",
      "Municipio Entidad , string\n",
      "Departamento Entidad , string\n"
     ]
    }
   ],
   "source": [
    "for col in data_2.dtypes:\n",
    "    print(col[0]+\" , \"+col[1])\n"
   ]
  },
  {
   "cell_type": "markdown",
   "id": "018a5c7e",
   "metadata": {},
   "source": [
    "### Convirtiendo las variables cuantia del contrato y valor total de adiciones a numeros y eliminando las comas"
   ]
  },
  {
   "cell_type": "code",
   "execution_count": 7,
   "id": "52c76128",
   "metadata": {},
   "outputs": [],
   "source": [
    "\n",
    "data_2=data_2.withColumn(\"Cuantia Contrato\",regexp_replace(\"Cuantia Contrato\", \",\", \"\"))\n"
   ]
  },
  {
   "cell_type": "code",
   "execution_count": 8,
   "id": "cba86feb",
   "metadata": {},
   "outputs": [],
   "source": [
    "data_2=data_2.withColumn(\"Cuantia Contrato\",data_2[\"Cuantia Contrato\"].cast(IntegerType()))\n",
    "\n"
   ]
  },
  {
   "cell_type": "code",
   "execution_count": null,
   "id": "b40b9840",
   "metadata": {},
   "outputs": [],
   "source": []
  },
  {
   "cell_type": "code",
   "execution_count": 9,
   "id": "33148428",
   "metadata": {},
   "outputs": [],
   "source": [
    "data_2=data_2.withColumn(\"Valor Total de Adiciones\",regexp_replace(\"Valor Total de Adiciones\", \",\", \"\"))"
   ]
  },
  {
   "cell_type": "code",
   "execution_count": 10,
   "id": "59f45798",
   "metadata": {},
   "outputs": [],
   "source": [
    "data_2=data_2.withColumn(\"Valor Total de Adiciones\",data_2[\"Valor Total de Adiciones\"].cast(IntegerType()))"
   ]
  },
  {
   "cell_type": "code",
   "execution_count": 11,
   "id": "c0973a4f",
   "metadata": {},
   "outputs": [
    {
     "name": "stdout",
     "output_type": "stream",
     "text": [
      "UID , string\n",
      "Tipo de Proceso , string\n",
      "Objeto a Contratar , string\n",
      "Tipo de Contrato , string\n",
      "Nombre Grupo , string\n",
      "Nombre Clase , string\n",
      "Nombre de la Entidad , string\n",
      "Plazo de Ejec del Contrato , int\n",
      "Rango de Ejec del Contrato , string\n",
      "Cuantia Contrato , int\n",
      "Valor Total de Adiciones , int\n",
      "Origen de los Recursos , string\n",
      "Municipio Entidad , string\n",
      "Departamento Entidad , string\n"
     ]
    }
   ],
   "source": [
    "for col in data_2.dtypes:\n",
    "    print(col[0]+\" , \"+col[1])\n"
   ]
  },
  {
   "cell_type": "code",
   "execution_count": 36,
   "id": "1a91a9d8",
   "metadata": {},
   "outputs": [
    {
     "name": "stderr",
     "output_type": "stream",
     "text": [
      "[Stage 67:=====================================================>(129 + 1) / 130]\r"
     ]
    },
    {
     "name": "stdout",
     "output_type": "stream",
     "text": [
      "+--------------------+--------------------+------------------------+----------------+\n",
      "|                 UID|     Tipo de Proceso|Valor Total de Adiciones|Cuantia Contrato|\n",
      "+--------------------+--------------------+------------------------+----------------+\n",
      "|19-13-10207327936...|Contratación Míni...|                       0|         2550000|\n",
      "|  15-9-3981843463469|             Subasta|                13725060|       227715080|\n",
      "|19-13-10173561937...|Contratación Míni...|                       0|         8800007|\n",
      "| 15-4-35935833377389|    Régimen Especial|                       0|         4620000|\n",
      "|20-4-113216351046...|    Régimen Especial|                       0|         6000000|\n",
      "| 19-4-99600019085482|    Régimen Especial|                       0|         2338744|\n",
      "|22-4-131553731218...|    Régimen Especial|                       0|        19700000|\n",
      "|18-12-84858607721723|Contratación Dire...|                       0|        10500000|\n",
      "|13-13-18304541763877|Contratación Míni...|                       0|         7446195|\n",
      "|       16-12-5424113|Contratación Dire...|                       0|               0|\n",
      "|19-12-96235308758638|Contratación Dire...|                       0|        14500000|\n",
      "|20-12-11085031102...|Contratación Dire...|                       0|         4550000|\n",
      "|13-13-15890461883550|Contratación Míni...|                       0|        57164800|\n",
      "|22-4-131190841215...|    Régimen Especial|                       0|         5989522|\n",
      "| 19-4-93755988580731|    Régimen Especial|                       0|         7200000|\n",
      "|18-12-75178146873080|Contratación Dire...|                       0|         1313760|\n",
      "|18-12-80915417352311|Contratación Dire...|                       0|        14423992|\n",
      "|14-12-30772942884229|Contratación Dire...|                       0|        48000000|\n",
      "|21-4-120443841118...|    Régimen Especial|                       0|         4925163|\n",
      "|17-12-74561626769658|Contratación Dire...|                       0|               0|\n",
      "+--------------------+--------------------+------------------------+----------------+\n",
      "only showing top 20 rows\n",
      "\n"
     ]
    },
    {
     "name": "stderr",
     "output_type": "stream",
     "text": [
      "\r",
      "                                                                                \r"
     ]
    }
   ],
   "source": [
    "data_2.select('UID', 'Tipo de Proceso',\n",
    "       'Valor Total de Adiciones','Cuantia Contrato').show()"
   ]
  },
  {
   "cell_type": "markdown",
   "id": "a64c9372",
   "metadata": {},
   "source": [
    "### Valores nulos"
   ]
  },
  {
   "cell_type": "code",
   "execution_count": 12,
   "id": "9c3fa2d3",
   "metadata": {},
   "outputs": [],
   "source": [
    "from pyspark.sql import functions as F\n",
    "\n",
    "df_nulos=data_2.select(*[\n",
    "    (\n",
    "        F.count(F.when((F.isnan(c) | F.col(c).isNull()), c)) if t not in (\"timestamp\", \"date\")\n",
    "        else F.count(F.when(F.col(c).isNull(), c))\n",
    "    ).alias(c)\n",
    "    for c, t in data_2.dtypes if c in data_2.columns\n",
    "])"
   ]
  },
  {
   "cell_type": "code",
   "execution_count": 38,
   "id": "079a8c03",
   "metadata": {},
   "outputs": [
    {
     "name": "stderr",
     "output_type": "stream",
     "text": [
      "[Stage 72:==================================================>     (36 + 4) / 40]\r"
     ]
    },
    {
     "name": "stdout",
     "output_type": "stream",
     "text": [
      "-RECORD 0---------------------------\n",
      " UID                        | 0     \n",
      " Tipo de Proceso            | 1     \n",
      " Objeto a Contratar         | 1     \n",
      " Tipo de Contrato           | 1     \n",
      " Nombre Grupo               | 1     \n",
      " Nombre Clase               | 1     \n",
      " Nombre de la Entidad       | 0     \n",
      " Plazo de Ejec del Contrato | 1     \n",
      " Rango de Ejec del Contrato | 1     \n",
      " Cuantia Contrato           | 53051 \n",
      " Valor Total de Adiciones   | 5119  \n",
      " Origen de los Recursos     | 1     \n",
      " Municipio Entidad          | 6     \n",
      " Departamento Entidad       | 6     \n",
      "\n"
     ]
    },
    {
     "name": "stderr",
     "output_type": "stream",
     "text": [
      "\r",
      "[Stage 72:=====================================================>  (38 + 2) / 40]\r",
      "\r",
      "                                                                                \r"
     ]
    }
   ],
   "source": [
    "df_nulos.show(truncate=False,vertical=True)"
   ]
  },
  {
   "cell_type": "markdown",
   "id": "206861bb",
   "metadata": {},
   "source": [
    "### Eliminar valores nulos"
   ]
  },
  {
   "cell_type": "code",
   "execution_count": 13,
   "id": "1ac039a1",
   "metadata": {},
   "outputs": [],
   "source": [
    "data_2=data_2.na.drop(how=\"any\")"
   ]
  },
  {
   "cell_type": "code",
   "execution_count": 40,
   "id": "00295839",
   "metadata": {},
   "outputs": [
    {
     "name": "stderr",
     "output_type": "stream",
     "text": [
      "                                                                                \r"
     ]
    },
    {
     "data": {
      "text/plain": [
       "11176422"
      ]
     },
     "execution_count": 40,
     "metadata": {},
     "output_type": "execute_result"
    }
   ],
   "source": [
    "data_2.count()"
   ]
  },
  {
   "cell_type": "markdown",
   "id": "cfd119b6",
   "metadata": {},
   "source": [
    "### Filtrar por contratos mayores a 1 millon"
   ]
  },
  {
   "cell_type": "code",
   "execution_count": 14,
   "id": "ea1ea029",
   "metadata": {},
   "outputs": [],
   "source": [
    "\n",
    "from pyspark.sql.functions import col\n",
    "data_2=data_2.filter(col(\"Cuantia Contrato\") >= 1000000)"
   ]
  },
  {
   "cell_type": "code",
   "execution_count": 42,
   "id": "42621161",
   "metadata": {},
   "outputs": [
    {
     "name": "stderr",
     "output_type": "stream",
     "text": [
      "                                                                                \r"
     ]
    },
    {
     "data": {
      "text/plain": [
       "9319697"
      ]
     },
     "execution_count": 42,
     "metadata": {},
     "output_type": "execute_result"
    }
   ],
   "source": [
    "data_2.count()"
   ]
  },
  {
   "cell_type": "code",
   "execution_count": 43,
   "id": "03cd5fe4",
   "metadata": {},
   "outputs": [
    {
     "name": "stdout",
     "output_type": "stream",
     "text": [
      "Contratos valor menor a 1 millon:  1856725\n"
     ]
    }
   ],
   "source": [
    "print(\"Contratos valor menor a 1 millon: \",11176422-9319697)"
   ]
  },
  {
   "cell_type": "code",
   "execution_count": 44,
   "id": "39e25e13",
   "metadata": {},
   "outputs": [
    {
     "name": "stderr",
     "output_type": "stream",
     "text": [
      "[Stage 88:===================================================>  (124 + 6) / 130]\r"
     ]
    },
    {
     "name": "stdout",
     "output_type": "stream",
     "text": [
      "+-----------------------------+-----------------------------+\n",
      "|min(Valor Total de Adiciones)|max(Valor Total de Adiciones)|\n",
      "+-----------------------------+-----------------------------+\n",
      "|                     -5401971|                   2147005950|\n",
      "+-----------------------------+-----------------------------+\n",
      "\n"
     ]
    },
    {
     "name": "stderr",
     "output_type": "stream",
     "text": [
      "\r",
      "[Stage 88:=====================================================>(128 + 2) / 130]\r",
      "\r",
      "                                                                                \r"
     ]
    }
   ],
   "source": [
    "from pyspark.sql.functions import *\n",
    "data_2.agg(min(col('Valor Total de Adiciones')),max(col('Valor Total de Adiciones'))).show()"
   ]
  },
  {
   "cell_type": "code",
   "execution_count": 45,
   "id": "719af3b8",
   "metadata": {},
   "outputs": [
    {
     "name": "stderr",
     "output_type": "stream",
     "text": [
      "                                                                                \r"
     ]
    },
    {
     "data": {
      "text/plain": [
       "2673"
      ]
     },
     "execution_count": 45,
     "metadata": {},
     "output_type": "execute_result"
    }
   ],
   "source": [
    "from pyspark.sql.functions import col\n",
    "data_2.filter((col('Valor Total de Adiciones') <= 100000) & (col('Valor Total de Adiciones')>0)).count()"
   ]
  },
  {
   "cell_type": "markdown",
   "id": "3df8f739",
   "metadata": {},
   "source": [
    "Se eliminan los contratos con adiciones menores a 100 mil y mayores a cero, esto para evitar valores de adiciones muy pequeños que pueden deberse a error de tipeo\n",
    "Tambien s elimina la adicion negativa "
   ]
  },
  {
   "cell_type": "code",
   "execution_count": 15,
   "id": "dfc426bc",
   "metadata": {},
   "outputs": [],
   "source": [
    "data_2=data_2.filter((col('Valor Total de Adiciones') >= 100000) | (col('Valor Total de Adiciones')==0))"
   ]
  },
  {
   "cell_type": "code",
   "execution_count": null,
   "id": "be0845e1",
   "metadata": {},
   "outputs": [],
   "source": []
  },
  {
   "cell_type": "code",
   "execution_count": 16,
   "id": "12327597",
   "metadata": {},
   "outputs": [
    {
     "name": "stderr",
     "output_type": "stream",
     "text": [
      "                                                                                \r"
     ]
    },
    {
     "data": {
      "text/plain": [
       "9317220"
      ]
     },
     "execution_count": 16,
     "metadata": {},
     "output_type": "execute_result"
    }
   ],
   "source": [
    "data_2.count()"
   ]
  },
  {
   "cell_type": "code",
   "execution_count": 48,
   "id": "0f313684",
   "metadata": {},
   "outputs": [
    {
     "name": "stderr",
     "output_type": "stream",
     "text": [
      "[Stage 103:===================================================> (126 + 4) / 130]\r"
     ]
    },
    {
     "name": "stdout",
     "output_type": "stream",
     "text": [
      "+--------------------+--------------------+------------------------+----------------+\n",
      "|                 UID|     Tipo de Proceso|Valor Total de Adiciones|Cuantia Contrato|\n",
      "+--------------------+--------------------+------------------------+----------------+\n",
      "|19-13-10207327936...|Contratación Míni...|                       0|         2550000|\n",
      "|  15-9-3981843463469|             Subasta|                13725060|       227715080|\n",
      "|19-13-10173561937...|Contratación Míni...|                       0|         8800007|\n",
      "| 15-4-35935833377389|    Régimen Especial|                       0|         4620000|\n",
      "|20-4-113216351046...|    Régimen Especial|                       0|         6000000|\n",
      "| 19-4-99600019085482|    Régimen Especial|                       0|         2338744|\n",
      "|22-4-131553731218...|    Régimen Especial|                       0|        19700000|\n",
      "|18-12-84858607721723|Contratación Dire...|                       0|        10500000|\n",
      "|13-13-18304541763877|Contratación Míni...|                       0|         7446195|\n",
      "|19-12-96235308758638|Contratación Dire...|                       0|        14500000|\n",
      "|20-12-11085031102...|Contratación Dire...|                       0|         4550000|\n",
      "|13-13-15890461883550|Contratación Míni...|                       0|        57164800|\n",
      "|22-4-131190841215...|    Régimen Especial|                       0|         5989522|\n",
      "| 19-4-93755988580731|    Régimen Especial|                       0|         7200000|\n",
      "|18-12-75178146873080|Contratación Dire...|                       0|         1313760|\n",
      "|18-12-80915417352311|Contratación Dire...|                       0|        14423992|\n",
      "|14-12-30772942884229|Contratación Dire...|                       0|        48000000|\n",
      "|21-4-120443841118...|    Régimen Especial|                       0|         4925163|\n",
      "|19-12-99326529059175|Contratación Dire...|                       0|         5250000|\n",
      "|16-12-47277704343867|Contratación Dire...|                       0|         1950000|\n",
      "+--------------------+--------------------+------------------------+----------------+\n",
      "only showing top 20 rows\n",
      "\n"
     ]
    },
    {
     "name": "stderr",
     "output_type": "stream",
     "text": [
      "\r",
      "                                                                                \r"
     ]
    }
   ],
   "source": [
    "data_2.select('UID', 'Tipo de Proceso',\n",
    "       'Valor Total de Adiciones','Cuantia Contrato').show()"
   ]
  },
  {
   "cell_type": "markdown",
   "id": "0294bbb8",
   "metadata": {},
   "source": [
    "### Creación de nueva variable"
   ]
  },
  {
   "cell_type": "markdown",
   "id": "224f94f1",
   "metadata": {},
   "source": [
    "Nueva variable Porcentaje de adiciones que corresponde al porcentaje en adiciones con respecto a la cuentia del contrato"
   ]
  },
  {
   "cell_type": "code",
   "execution_count": 17,
   "id": "4841f8c1",
   "metadata": {},
   "outputs": [],
   "source": [
    "data_2=data_2.withColumn(\"Porcentaje_Adiciones\",col(\"Valor Total de Adiciones\")/col(\"Cuantia Contrato\")*100)"
   ]
  },
  {
   "cell_type": "code",
   "execution_count": 18,
   "id": "2981f33b",
   "metadata": {},
   "outputs": [],
   "source": [
    "import pyspark.sql.functions as func\n",
    "data_2 = data_2.withColumn(\"Porcentaje_Adiciones\", func.round(data_2[\"Porcentaje_Adiciones\"], 2))"
   ]
  },
  {
   "cell_type": "code",
   "execution_count": 52,
   "id": "ed1c9e1b",
   "metadata": {},
   "outputs": [
    {
     "name": "stderr",
     "output_type": "stream",
     "text": [
      "[Stage 106:===================================================> (127 + 3) / 130]\r"
     ]
    },
    {
     "name": "stdout",
     "output_type": "stream",
     "text": [
      "+------------------------+----------------+--------------------+--------------------+\n",
      "|Valor Total de Adiciones|Cuantia Contrato|Porcentaje_Adiciones|Departamento Entidad|\n",
      "+------------------------+----------------+--------------------+--------------------+\n",
      "|                       0|         2550000|                 0.0|              Nariño|\n",
      "|                13725060|       227715080|                6.03|           Antioquia|\n",
      "|                       0|         8800007|                 0.0|              Boyacá|\n",
      "|                       0|         4620000|                 0.0|           Antioquia|\n",
      "|                       0|         6000000|                 0.0|              Boyacá|\n",
      "|                       0|         2338744|                 0.0|             Caquetá|\n",
      "|                       0|        19700000|                 0.0|        Cundinamarca|\n",
      "|                       0|        10500000|                 0.0|             Bolívar|\n",
      "|                       0|         7446195|                 0.0|         Bogotá D.C.|\n",
      "|                       0|        14500000|                 0.0|     Valle del Cauca|\n",
      "|                       0|         4550000|                 0.0|     Valle del Cauca|\n",
      "|                       0|        57164800|                 0.0|         Bogotá D.C.|\n",
      "|                       0|         5989522|                 0.0|               Sucre|\n",
      "|                       0|         7200000|                 0.0|           Magdalena|\n",
      "|                       0|         1313760|                 0.0|              Boyacá|\n",
      "|                       0|        14423992|                 0.0|         Bogotá D.C.|\n",
      "|                       0|        48000000|                 0.0|         Bogotá D.C.|\n",
      "|                       0|         4925163|                 0.0|               Sucre|\n",
      "|                       0|         5250000|                 0.0|            Guaviare|\n",
      "|                       0|         1950000|                 0.0|         Bogotá D.C.|\n",
      "+------------------------+----------------+--------------------+--------------------+\n",
      "only showing top 20 rows\n",
      "\n"
     ]
    },
    {
     "name": "stderr",
     "output_type": "stream",
     "text": [
      "\r",
      "                                                                                \r"
     ]
    }
   ],
   "source": [
    "data_2.select(\"Valor Total de Adiciones\",\"Cuantia Contrato\",\"Porcentaje_Adiciones\",\"Departamento Entidad\").show()"
   ]
  },
  {
   "cell_type": "code",
   "execution_count": 53,
   "id": "cf4af856",
   "metadata": {},
   "outputs": [
    {
     "name": "stderr",
     "output_type": "stream",
     "text": [
      "[Stage 109:==================================================>  (124 + 6) / 130]\r"
     ]
    },
    {
     "name": "stdout",
     "output_type": "stream",
     "text": [
      "+------------------------+----------------+--------------------+\n",
      "|Valor Total de Adiciones|Cuantia Contrato|Porcentaje_Adiciones|\n",
      "+------------------------+----------------+--------------------+\n",
      "|               548860069|      1026357873|               53.48|\n",
      "|                 3663435|         3633435|              100.83|\n",
      "|                 2624000|         1312000|               200.0|\n",
      "|               118457909|       185527312|               63.85|\n",
      "|                34535004|        33939615|              101.75|\n",
      "|                 6991712|         4251000|              164.47|\n",
      "|                 9790000|         9790000|               100.0|\n",
      "|                 2400000|         2400000|               100.0|\n",
      "|                 6000000|         6000000|               100.0|\n",
      "|                 4500000|         8421600|               53.43|\n",
      "|                 3244500|         2018800|              160.71|\n",
      "|                 3916800|         3916800|               100.0|\n",
      "|               138760443|        35681257|              388.89|\n",
      "|               106589400|        29106300|              366.21|\n",
      "|                 1232711|         1713770|               71.93|\n",
      "|                11250000|         9000000|               125.0|\n",
      "|               120000000|       125000000|                96.0|\n",
      "|               833466023|       507996037|              164.07|\n",
      "|                38001438|         7347093|              517.23|\n",
      "|                21538108|        21538110|               100.0|\n",
      "+------------------------+----------------+--------------------+\n",
      "only showing top 20 rows\n",
      "\n"
     ]
    },
    {
     "name": "stderr",
     "output_type": "stream",
     "text": [
      "\r",
      "[Stage 109:===================================================> (126 + 4) / 130]\r",
      "\r",
      "                                                                                \r"
     ]
    }
   ],
   "source": [
    "data_2.select(\"Valor Total de Adiciones\",\"Cuantia Contrato\",\"Porcentaje_Adiciones\").filter(col(\"Porcentaje_Adiciones\") >50).show()"
   ]
  },
  {
   "cell_type": "code",
   "execution_count": 19,
   "id": "307a8d17",
   "metadata": {},
   "outputs": [
    {
     "name": "stdout",
     "output_type": "stream",
     "text": [
      "root\n",
      " |-- UID: string (nullable = true)\n",
      " |-- Tipo de Proceso: string (nullable = true)\n",
      " |-- Objeto a Contratar: string (nullable = true)\n",
      " |-- Tipo de Contrato: string (nullable = true)\n",
      " |-- Nombre Grupo: string (nullable = true)\n",
      " |-- Nombre Clase: string (nullable = true)\n",
      " |-- Nombre de la Entidad: string (nullable = true)\n",
      " |-- Plazo de Ejec del Contrato: integer (nullable = true)\n",
      " |-- Rango de Ejec del Contrato: string (nullable = true)\n",
      " |-- Cuantia Contrato: integer (nullable = true)\n",
      " |-- Valor Total de Adiciones: integer (nullable = true)\n",
      " |-- Origen de los Recursos: string (nullable = true)\n",
      " |-- Municipio Entidad: string (nullable = true)\n",
      " |-- Departamento Entidad: string (nullable = true)\n",
      " |-- Porcentaje_Adiciones: double (nullable = true)\n",
      "\n"
     ]
    }
   ],
   "source": [
    "data_2.printSchema()"
   ]
  },
  {
   "cell_type": "code",
   "execution_count": 20,
   "id": "5b7b702d",
   "metadata": {},
   "outputs": [
    {
     "name": "stderr",
     "output_type": "stream",
     "text": [
      "                                                                                \r"
     ]
    },
    {
     "data": {
      "text/plain": [
       "0"
      ]
     },
     "execution_count": 20,
     "metadata": {},
     "output_type": "execute_result"
    }
   ],
   "source": [
    "data_2.filter(col('Valor Total de Adiciones') < 0).count()"
   ]
  },
  {
   "cell_type": "code",
   "execution_count": 56,
   "id": "1872f795",
   "metadata": {},
   "outputs": [
    {
     "name": "stderr",
     "output_type": "stream",
     "text": [
      "[Stage 117:===============================================>       (25 + 4) / 29]\r"
     ]
    },
    {
     "name": "stdout",
     "output_type": "stream",
     "text": [
      "+-------+--------------------+\n",
      "|summary|Porcentaje_Adiciones|\n",
      "+-------+--------------------+\n",
      "|  count|             9317220|\n",
      "|   mean|   4.634478501097994|\n",
      "| stddev|  117.17397414776033|\n",
      "|    min|                 0.0|\n",
      "|    25%|                 0.0|\n",
      "|    50%|                 0.0|\n",
      "|    75%|                 0.0|\n",
      "|    max|           127597.71|\n",
      "+-------+--------------------+\n",
      "\n"
     ]
    },
    {
     "name": "stderr",
     "output_type": "stream",
     "text": [
      "\r",
      "                                                                                \r"
     ]
    }
   ],
   "source": [
    "data_2.select('Porcentaje_Adiciones').summary().show()"
   ]
  },
  {
   "cell_type": "code",
   "execution_count": null,
   "id": "8581b8b5",
   "metadata": {},
   "outputs": [],
   "source": []
  },
  {
   "cell_type": "code",
   "execution_count": 57,
   "id": "c59f860e",
   "metadata": {},
   "outputs": [
    {
     "name": "stderr",
     "output_type": "stream",
     "text": [
      "                                                                                \r"
     ]
    },
    {
     "data": {
      "text/plain": [
       "1652"
      ]
     },
     "execution_count": 57,
     "metadata": {},
     "output_type": "execute_result"
    }
   ],
   "source": [
    "data_2.filter(col('Porcentaje_Adiciones') > 1000).count()"
   ]
  },
  {
   "cell_type": "code",
   "execution_count": 58,
   "id": "61521f4f",
   "metadata": {},
   "outputs": [
    {
     "name": "stderr",
     "output_type": "stream",
     "text": [
      "[Stage 127:==================================================>  (125 + 5) / 130]\r"
     ]
    },
    {
     "name": "stdout",
     "output_type": "stream",
     "text": [
      "+----------------+------------------------+--------------------+\n",
      "|Cuantia Contrato|Valor Total de Adiciones|Porcentaje_Adiciones|\n",
      "+----------------+------------------------+--------------------+\n",
      "|         1584485|              2021766498|           127597.71|\n",
      "+----------------+------------------------+--------------------+\n",
      "\n"
     ]
    },
    {
     "name": "stderr",
     "output_type": "stream",
     "text": [
      "\r",
      "[Stage 127:====================================================>(129 + 1) / 130]\r",
      "\r",
      "                                                                                \r"
     ]
    }
   ],
   "source": [
    "from pyspark.sql.functions import col\n",
    "data_2.select('Cuantia Contrato','Valor Total de Adiciones','Porcentaje_Adiciones').filter(col('Porcentaje_Adiciones') == 127597.71).show()"
   ]
  },
  {
   "cell_type": "markdown",
   "id": "4f38510b",
   "metadata": {},
   "source": [
    "Se eliminan los contratos con porcentajes en adicion superiores al 1000% que pueden deberse a errores en la informacion o de tipeo"
   ]
  },
  {
   "cell_type": "code",
   "execution_count": 21,
   "id": "a6e370dd",
   "metadata": {},
   "outputs": [],
   "source": [
    "data_2=data_2.filter(col('Porcentaje_Adiciones') < 1000)"
   ]
  },
  {
   "cell_type": "markdown",
   "id": "7c3684b5",
   "metadata": {},
   "source": [
    "9315509 registros usados para la evaluacion de modelos luego de la limpieza de los datos"
   ]
  },
  {
   "cell_type": "code",
   "execution_count": 60,
   "id": "e9fc36f3",
   "metadata": {},
   "outputs": [
    {
     "name": "stderr",
     "output_type": "stream",
     "text": [
      "                                                                                \r"
     ]
    },
    {
     "data": {
      "text/plain": [
       "9315509"
      ]
     },
     "execution_count": 60,
     "metadata": {},
     "output_type": "execute_result"
    }
   ],
   "source": [
    "data_2.count()"
   ]
  },
  {
   "cell_type": "markdown",
   "id": "fee33b91",
   "metadata": {},
   "source": [
    "### Variables predictoras para la evaluación de modelos"
   ]
  },
  {
   "cell_type": "code",
   "execution_count": 22,
   "id": "bdadaf28",
   "metadata": {},
   "outputs": [],
   "source": [
    "df_k=data_2.select('Tipo de Proceso',\n",
    "        'Objeto a Contratar',\n",
    "      'Tipo de Contrato',\n",
    "       'Nombre de la Entidad',\n",
    "       'Nombre Grupo', 'Nombre Clase', \"Plazo de Ejec del Contrato\",\n",
    "        'Rango de Ejec del Contrato',\n",
    "       'Cuantia Contrato','Valor Total de Adiciones','Porcentaje_Adiciones',\n",
    "       'Origen de los Recursos',  'Municipio Entidad', 'Departamento Entidad')"
   ]
  },
  {
   "cell_type": "markdown",
   "id": "ec4f9e82",
   "metadata": {},
   "source": [
    "### Creacion de las variables indexadas"
   ]
  },
  {
   "cell_type": "code",
   "execution_count": 24,
   "id": "ae49e0ce",
   "metadata": {},
   "outputs": [
    {
     "name": "stderr",
     "output_type": "stream",
     "text": [
      "                                                                                \r"
     ]
    }
   ],
   "source": [
    "from pyspark.ml.feature import StringIndexer\n",
    "from pyspark.ml import Pipeline\n",
    "\n",
    "\n",
    "Istages=[]\n",
    "catcol=['Tipo de Proceso','Objeto a Contratar',\n",
    "      'Tipo de Contrato','Nombre de la Entidad',\n",
    "       'Nombre Grupo', 'Nombre Clase',\n",
    "        'Rango de Ejec del Contrato',\n",
    "       'Origen de los Recursos',  'Municipio Entidad', 'Departamento Entidad']\n",
    "for col in catcol:\n",
    "    indexer=StringIndexer(inputCol=col,outputCol=col+\"Index\")\n",
    "    Istages+=[indexer]\n",
    "    \n",
    "partPipeline=Pipeline().setStages(Istages)\n",
    "pipModel=partPipeline.fit(df_k)\n",
    "df_k=pipModel.transform(df_k)"
   ]
  },
  {
   "cell_type": "code",
   "execution_count": 63,
   "id": "7349cc64",
   "metadata": {},
   "outputs": [
    {
     "name": "stderr",
     "output_type": "stream",
     "text": [
      "[Stage 196:==================================================>  (125 + 5) / 130]\r"
     ]
    },
    {
     "name": "stdout",
     "output_type": "stream",
     "text": [
      "+------------------------+----------------+--------------------+--------------------+\n",
      "|Valor Total de Adiciones|Cuantia Contrato|Porcentaje_Adiciones|Departamento Entidad|\n",
      "+------------------------+----------------+--------------------+--------------------+\n",
      "|                       0|         2550000|                 0.0|              Nariño|\n",
      "|                13725060|       227715080|                6.03|           Antioquia|\n",
      "|                       0|         8800007|                 0.0|              Boyacá|\n",
      "|                       0|         4620000|                 0.0|           Antioquia|\n",
      "|                       0|         6000000|                 0.0|              Boyacá|\n",
      "|                       0|         2338744|                 0.0|             Caquetá|\n",
      "|                       0|        19700000|                 0.0|        Cundinamarca|\n",
      "|                       0|        10500000|                 0.0|             Bolívar|\n",
      "|                       0|         7446195|                 0.0|         Bogotá D.C.|\n",
      "|                       0|        14500000|                 0.0|     Valle del Cauca|\n",
      "|                       0|         4550000|                 0.0|     Valle del Cauca|\n",
      "|                       0|        57164800|                 0.0|         Bogotá D.C.|\n",
      "|                       0|         5989522|                 0.0|               Sucre|\n",
      "|                       0|         7200000|                 0.0|           Magdalena|\n",
      "|                       0|         1313760|                 0.0|              Boyacá|\n",
      "|                       0|        14423992|                 0.0|         Bogotá D.C.|\n",
      "|                       0|        48000000|                 0.0|         Bogotá D.C.|\n",
      "|                       0|         4925163|                 0.0|               Sucre|\n",
      "|                       0|         5250000|                 0.0|            Guaviare|\n",
      "|                       0|         1950000|                 0.0|         Bogotá D.C.|\n",
      "+------------------------+----------------+--------------------+--------------------+\n",
      "only showing top 20 rows\n",
      "\n"
     ]
    },
    {
     "name": "stderr",
     "output_type": "stream",
     "text": [
      "\r",
      "                                                                                \r"
     ]
    }
   ],
   "source": [
    "df_k.select(\"Valor Total de Adiciones\",\"Cuantia Contrato\",\"Porcentaje_Adiciones\",\"Departamento Entidad\").show()"
   ]
  },
  {
   "cell_type": "code",
   "execution_count": 70,
   "id": "fef8d377",
   "metadata": {},
   "outputs": [
    {
     "name": "stderr",
     "output_type": "stream",
     "text": [
      "[Stage 270:=============================================>         (24 + 5) / 29]\r"
     ]
    },
    {
     "name": "stdout",
     "output_type": "stream",
     "text": [
      "(9315509, 24)\n"
     ]
    },
    {
     "name": "stderr",
     "output_type": "stream",
     "text": [
      "\r",
      "[Stage 270:===============================================>       (25 + 4) / 29]\r",
      "\r",
      "                                                                                \r"
     ]
    }
   ],
   "source": [
    "print((df_k.count(), len(df_k.columns)))"
   ]
  },
  {
   "cell_type": "code",
   "execution_count": 71,
   "id": "7a10c990",
   "metadata": {},
   "outputs": [
    {
     "name": "stderr",
     "output_type": "stream",
     "text": [
      "[Stage 274:====================================================>(129 + 1) / 130]\r"
     ]
    },
    {
     "name": "stdout",
     "output_type": "stream",
     "text": [
      "+--------------------+-------------------------+\n",
      "|Departamento Entidad|Departamento EntidadIndex|\n",
      "+--------------------+-------------------------+\n",
      "|              Nariño|                      4.0|\n",
      "|           Antioquia|                      1.0|\n",
      "|              Boyacá|                      6.0|\n",
      "|           Antioquia|                      1.0|\n",
      "|              Boyacá|                      6.0|\n",
      "|             Caquetá|                     25.0|\n",
      "|        Cundinamarca|                      2.0|\n",
      "|             Bolívar|                     13.0|\n",
      "|         Bogotá D.C.|                      0.0|\n",
      "|     Valle del Cauca|                      3.0|\n",
      "|     Valle del Cauca|                      3.0|\n",
      "|         Bogotá D.C.|                      0.0|\n",
      "|               Sucre|                     19.0|\n",
      "|           Magdalena|                     12.0|\n",
      "|              Boyacá|                      6.0|\n",
      "|         Bogotá D.C.|                      0.0|\n",
      "|         Bogotá D.C.|                      0.0|\n",
      "|               Sucre|                     19.0|\n",
      "|            Guaviare|                     27.0|\n",
      "|         Bogotá D.C.|                      0.0|\n",
      "+--------------------+-------------------------+\n",
      "only showing top 20 rows\n",
      "\n"
     ]
    },
    {
     "name": "stderr",
     "output_type": "stream",
     "text": [
      "\r",
      "                                                                                \r"
     ]
    }
   ],
   "source": [
    "df_k.select(\"Departamento Entidad\",\"Departamento EntidadIndex\").show()"
   ]
  },
  {
   "cell_type": "code",
   "execution_count": 25,
   "id": "03511858",
   "metadata": {},
   "outputs": [
    {
     "name": "stdout",
     "output_type": "stream",
     "text": [
      "root\n",
      " |-- Tipo de Proceso: string (nullable = true)\n",
      " |-- Objeto a Contratar: string (nullable = true)\n",
      " |-- Tipo de Contrato: string (nullable = true)\n",
      " |-- Nombre de la Entidad: string (nullable = true)\n",
      " |-- Nombre Grupo: string (nullable = true)\n",
      " |-- Nombre Clase: string (nullable = true)\n",
      " |-- Plazo de Ejec del Contrato: integer (nullable = true)\n",
      " |-- Rango de Ejec del Contrato: string (nullable = true)\n",
      " |-- Cuantia Contrato: integer (nullable = true)\n",
      " |-- Valor Total de Adiciones: integer (nullable = true)\n",
      " |-- Porcentaje_Adiciones: double (nullable = true)\n",
      " |-- Origen de los Recursos: string (nullable = true)\n",
      " |-- Municipio Entidad: string (nullable = true)\n",
      " |-- Departamento Entidad: string (nullable = true)\n",
      " |-- Tipo de ProcesoIndex: double (nullable = false)\n",
      " |-- Objeto a ContratarIndex: double (nullable = false)\n",
      " |-- Tipo de ContratoIndex: double (nullable = false)\n",
      " |-- Nombre de la EntidadIndex: double (nullable = false)\n",
      " |-- Nombre GrupoIndex: double (nullable = false)\n",
      " |-- Nombre ClaseIndex: double (nullable = false)\n",
      " |-- Rango de Ejec del ContratoIndex: double (nullable = false)\n",
      " |-- Origen de los RecursosIndex: double (nullable = false)\n",
      " |-- Municipio EntidadIndex: double (nullable = false)\n",
      " |-- Departamento EntidadIndex: double (nullable = false)\n",
      "\n"
     ]
    }
   ],
   "source": [
    "df_k.printSchema()"
   ]
  },
  {
   "cell_type": "markdown",
   "id": "50341d89",
   "metadata": {},
   "source": [
    "### Vector de features con las variables indexadas"
   ]
  },
  {
   "cell_type": "code",
   "execution_count": 26,
   "id": "a6cc9f4d",
   "metadata": {},
   "outputs": [],
   "source": [
    "from pyspark.ml.feature import VectorAssembler\n",
    "\n",
    "assemble=VectorAssembler(inputCols=['Tipo de ProcesoIndex',\n",
    "        'Objeto a ContratarIndex',\n",
    "      'Tipo de ContratoIndex',\n",
    "       'Nombre de la EntidadIndex',\n",
    "       'Nombre GrupoIndex', 'Nombre ClaseIndex', \n",
    "       'Plazo de Ejec del Contrato', 'Rango de Ejec del ContratoIndex',\n",
    "       'Origen de los RecursosIndex',  'Municipio EntidadIndex', \n",
    "        'Departamento EntidadIndex','Cuantia Contrato','Valor Total de Adiciones','Porcentaje_Adiciones'], outputCol='features')\n",
    "assembled_data=assemble.transform(df_k)\n"
   ]
  },
  {
   "cell_type": "code",
   "execution_count": 27,
   "id": "1ce5fdd5",
   "metadata": {},
   "outputs": [
    {
     "name": "stdout",
     "output_type": "stream",
     "text": [
      "root\n",
      " |-- Tipo de Proceso: string (nullable = true)\n",
      " |-- Objeto a Contratar: string (nullable = true)\n",
      " |-- Tipo de Contrato: string (nullable = true)\n",
      " |-- Nombre de la Entidad: string (nullable = true)\n",
      " |-- Nombre Grupo: string (nullable = true)\n",
      " |-- Nombre Clase: string (nullable = true)\n",
      " |-- Plazo de Ejec del Contrato: integer (nullable = true)\n",
      " |-- Rango de Ejec del Contrato: string (nullable = true)\n",
      " |-- Cuantia Contrato: integer (nullable = true)\n",
      " |-- Valor Total de Adiciones: integer (nullable = true)\n",
      " |-- Porcentaje_Adiciones: double (nullable = true)\n",
      " |-- Origen de los Recursos: string (nullable = true)\n",
      " |-- Municipio Entidad: string (nullable = true)\n",
      " |-- Departamento Entidad: string (nullable = true)\n",
      " |-- Tipo de ProcesoIndex: double (nullable = false)\n",
      " |-- Objeto a ContratarIndex: double (nullable = false)\n",
      " |-- Tipo de ContratoIndex: double (nullable = false)\n",
      " |-- Nombre de la EntidadIndex: double (nullable = false)\n",
      " |-- Nombre GrupoIndex: double (nullable = false)\n",
      " |-- Nombre ClaseIndex: double (nullable = false)\n",
      " |-- Rango de Ejec del ContratoIndex: double (nullable = false)\n",
      " |-- Origen de los RecursosIndex: double (nullable = false)\n",
      " |-- Municipio EntidadIndex: double (nullable = false)\n",
      " |-- Departamento EntidadIndex: double (nullable = false)\n",
      " |-- features: vector (nullable = true)\n",
      "\n"
     ]
    }
   ],
   "source": [
    "assembled_data.printSchema()"
   ]
  },
  {
   "cell_type": "markdown",
   "id": "8b8d7d9f",
   "metadata": {},
   "source": [
    "### Estandarizacion y escalado de las features\n"
   ]
  },
  {
   "cell_type": "code",
   "execution_count": 28,
   "id": "2b1b61e6",
   "metadata": {},
   "outputs": [
    {
     "name": "stderr",
     "output_type": "stream",
     "text": [
      "[Stage 89:===================================================>  (124 + 6) / 130]\r"
     ]
    },
    {
     "name": "stdout",
     "output_type": "stream",
     "text": [
      "+--------------------+--------------------+\n",
      "|            features|        standardized|\n",
      "+--------------------+--------------------+\n",
      "|[2.0,15.0,1.0,507...|[1.67421202064421...|\n",
      "|[4.0,18.0,1.0,120...|[3.34842404128843...|\n",
      "|(14,[0,2,3,5,6,9,...|(14,[0,2,3,5,6,9,...|\n",
      "|[1.0,3.0,2.0,1648...|[0.83710601032210...|\n",
      "|[1.0,12.0,0.0,164...|[0.83710601032210...|\n",
      "+--------------------+--------------------+\n",
      "only showing top 5 rows\n",
      "\n"
     ]
    },
    {
     "name": "stderr",
     "output_type": "stream",
     "text": [
      "\r",
      "                                                                                \r"
     ]
    }
   ],
   "source": [
    "from pyspark.ml.feature import StandardScaler\n",
    "\n",
    "## Standard Scaling\n",
    "scale = StandardScaler(inputCol=\"features\", outputCol=\"standardized\")\n",
    "data_scale = scale.fit(assembled_data)\n",
    "data_scale_output = data_scale.transform(assembled_data)\n",
    "data_scale_output.select(\"features\",\"standardized\").show(5)"
   ]
  },
  {
   "cell_type": "code",
   "execution_count": 78,
   "id": "dc5c975a",
   "metadata": {},
   "outputs": [
    {
     "name": "stderr",
     "output_type": "stream",
     "text": [
      "[Stage 286:==================================================>  (124 + 6) / 130]\r"
     ]
    },
    {
     "name": "stdout",
     "output_type": "stream",
     "text": [
      "+--------------------+-----------------------+----------------+--------------------+\n",
      "|Tipo de ProcesoIndex|Objeto a ContratarIndex|Cuantia Contrato|        standardized|\n",
      "+--------------------+-----------------------+----------------+--------------------+\n",
      "|                 2.0|                   15.0|         2550000|[1.67421202064421...|\n",
      "|                 4.0|                   18.0|       227715080|[3.34842404128843...|\n",
      "|                 2.0|                    0.0|         8800007|(14,[0,2,3,5,6,9,...|\n",
      "|                 1.0|                    3.0|         4620000|[0.83710601032210...|\n",
      "|                 1.0|                   12.0|         6000000|[0.83710601032210...|\n",
      "+--------------------+-----------------------+----------------+--------------------+\n",
      "only showing top 5 rows\n",
      "\n"
     ]
    },
    {
     "name": "stderr",
     "output_type": "stream",
     "text": [
      "\r",
      "                                                                                \r"
     ]
    }
   ],
   "source": [
    "data_scale_output.select(\"Tipo de ProcesoIndex\",\"Objeto a ContratarIndex\",\"Cuantia Contrato\",\"standardized\").show(5)"
   ]
  },
  {
   "cell_type": "markdown",
   "id": "8f237820",
   "metadata": {},
   "source": [
    "## kmeans"
   ]
  },
  {
   "cell_type": "code",
   "execution_count": 79,
   "id": "ff5c2251",
   "metadata": {},
   "outputs": [
    {
     "name": "stderr",
     "output_type": "stream",
     "text": [
      "                                                                                \r"
     ]
    },
    {
     "name": "stdout",
     "output_type": "stream",
     "text": [
      "With K=2\n",
      "Silhouette with squared euclidean distance = -0.12199573994458092\n",
      "------------------------------------------------------------\n"
     ]
    },
    {
     "name": "stderr",
     "output_type": "stream",
     "text": [
      "                                                                                \r"
     ]
    },
    {
     "name": "stdout",
     "output_type": "stream",
     "text": [
      "With K=3\n",
      "Silhouette with squared euclidean distance = -0.14779471655452472\n",
      "------------------------------------------------------------\n"
     ]
    },
    {
     "name": "stderr",
     "output_type": "stream",
     "text": [
      "                                                                                \r"
     ]
    },
    {
     "name": "stdout",
     "output_type": "stream",
     "text": [
      "With K=4\n",
      "Silhouette with squared euclidean distance = -0.4902286512043875\n",
      "------------------------------------------------------------\n"
     ]
    },
    {
     "name": "stderr",
     "output_type": "stream",
     "text": [
      "                                                                                \r"
     ]
    },
    {
     "name": "stdout",
     "output_type": "stream",
     "text": [
      "With K=5\n",
      "Silhouette with squared euclidean distance = -0.47879970696129776\n",
      "------------------------------------------------------------\n"
     ]
    },
    {
     "name": "stderr",
     "output_type": "stream",
     "text": [
      "                                                                                \r"
     ]
    },
    {
     "name": "stdout",
     "output_type": "stream",
     "text": [
      "With K=6\n",
      "Silhouette with squared euclidean distance = -0.3675548580568858\n",
      "------------------------------------------------------------\n"
     ]
    },
    {
     "name": "stderr",
     "output_type": "stream",
     "text": [
      "                                                                                \r"
     ]
    },
    {
     "name": "stdout",
     "output_type": "stream",
     "text": [
      "With K=7\n",
      "Silhouette with squared euclidean distance = -0.4433982853397154\n",
      "------------------------------------------------------------\n"
     ]
    },
    {
     "name": "stderr",
     "output_type": "stream",
     "text": [
      "[Stage 954:===============================================>       (25 + 4) / 29]\r"
     ]
    },
    {
     "name": "stdout",
     "output_type": "stream",
     "text": [
      "With K=8\n",
      "Silhouette with squared euclidean distance = -0.44889097368610986\n",
      "------------------------------------------------------------\n"
     ]
    },
    {
     "name": "stderr",
     "output_type": "stream",
     "text": [
      "\r",
      "                                                                                \r"
     ]
    }
   ],
   "source": [
    "from pyspark.ml.clustering import KMeans\n",
    "from pyspark.ml.evaluation import ClusteringEvaluator\n",
    "for k in range(2,9):\n",
    "    kmeans = KMeans(featuresCol='standardized',k=k)\n",
    "    model = kmeans.fit(data_scale_output)\n",
    "    predictions = model.transform(data_scale_output)\n",
    "    evaluator = ClusteringEvaluator()\n",
    "    silhouette = evaluator.evaluate(predictions)\n",
    "    print(\"With K={}\".format(k))\n",
    "    print(\"Silhouette with squared euclidean distance = \" + str(silhouette))\n",
    "    print('--'*30)\n"
   ]
  },
  {
   "cell_type": "markdown",
   "id": "cf05a18f",
   "metadata": {},
   "source": [
    "## BisectingKMeans"
   ]
  },
  {
   "cell_type": "code",
   "execution_count": 80,
   "id": "81fa90b2",
   "metadata": {},
   "outputs": [
    {
     "name": "stderr",
     "output_type": "stream",
     "text": [
      "                                                                                \r"
     ]
    }
   ],
   "source": [
    "from pyspark.ml.clustering import BisectingKMeans\n",
    "from pyspark.ml.evaluation import ClusteringEvaluator\n",
    "\n",
    "silhouette_scores=[]\n",
    "evaluator = ClusteringEvaluator(featuresCol='standardized', \\\n",
    "metricName='silhouette')\n",
    "for K in range(2,9):\n",
    "\n",
    "    BKMeans_=BisectingKMeans(featuresCol='standardized', k=K, minDivisibleClusterSize =1)\n",
    "\n",
    "    BKMeans_fit=BKMeans_.fit(data_scale_output)\n",
    "\n",
    "    BKMeans_transform=BKMeans_fit.transform(data_scale_output) \n",
    "\n",
    "    evaluation_score=evaluator.evaluate(BKMeans_transform)\n",
    "\n",
    "    silhouette_scores.append(evaluation_score)"
   ]
  },
  {
   "cell_type": "code",
   "execution_count": 81,
   "id": "7f6429af",
   "metadata": {},
   "outputs": [
    {
     "data": {
      "text/plain": [
       "Text(0, 0.5, 'Silhouette Score')"
      ]
     },
     "execution_count": 81,
     "metadata": {},
     "output_type": "execute_result"
    },
    {
     "data": {
      "image/png": "[encoded data removed]",
      "text/plain": [
       "<Figure size 720x576 with 1 Axes>"
      ]
     },
     "metadata": {
      "needs_background": "light"
     },
     "output_type": "display_data"
    }
   ],
   "source": [
    "import matplotlib.pyplot as plt\n",
    "fig, ax = plt.subplots(1,1, figsize =(10,8))\n",
    "ax.plot(range(2,9),silhouette_scores)\n",
    "ax.set_xlabel('Number of Clusters')\n",
    "ax.set_ylabel('Silhouette Score')"
   ]
  },
  {
   "cell_type": "code",
   "execution_count": 89,
   "id": "f9052650",
   "metadata": {},
   "outputs": [
    {
     "data": {
      "text/plain": [
       "0.48900895722575854"
      ]
     },
     "execution_count": 89,
     "metadata": {},
     "output_type": "execute_result"
    }
   ],
   "source": [
    "# K=2 con BisectingKMeans es el valor mas alto\n",
    "silhouette_scores[0]"
   ]
  },
  {
   "cell_type": "markdown",
   "id": "966c7586",
   "metadata": {},
   "source": [
    "### Segmentación de datos usando dos grupos K=2 CON Bisecting Kmeans"
   ]
  },
  {
   "cell_type": "code",
   "execution_count": 90,
   "id": "46c1649d",
   "metadata": {},
   "outputs": [
    {
     "name": "stderr",
     "output_type": "stream",
     "text": [
      "                                                                                \r"
     ]
    }
   ],
   "source": [
    "BIKMeans_2=BisectingKMeans(featuresCol='standardized', k=2)\n",
    "BIKMeans_2_fit=BIKMeans_2.fit(data_scale_output)\n",
    "PRED_BIK=BIKMeans_2_fit.transform(data_scale_output)\n",
    "\n"
   ]
  },
  {
   "cell_type": "code",
   "execution_count": 91,
   "id": "1cf8c1fa",
   "metadata": {},
   "outputs": [
    {
     "name": "stderr",
     "output_type": "stream",
     "text": [
      "[Stage 2206:>                                                       (0 + 1) / 1]\r"
     ]
    },
    {
     "name": "stdout",
     "output_type": "stream",
     "text": [
      "+----------------+------------------------+--------------------+----------+\n",
      "|Cuantia Contrato|Valor Total de Adiciones|Porcentaje_Adiciones|prediction|\n",
      "+----------------+------------------------+--------------------+----------+\n",
      "|         2550000|                       0|                 0.0|         1|\n",
      "|       227715080|                13725060|                6.03|         1|\n",
      "|         8800007|                       0|                 0.0|         0|\n",
      "|         4620000|                       0|                 0.0|         0|\n",
      "|         6000000|                       0|                 0.0|         0|\n",
      "|         2338744|                       0|                 0.0|         0|\n",
      "|        19700000|                       0|                 0.0|         0|\n",
      "|        10500000|                       0|                 0.0|         0|\n",
      "|         7446195|                       0|                 0.0|         1|\n",
      "|        14500000|                       0|                 0.0|         0|\n",
      "|         4550000|                       0|                 0.0|         0|\n",
      "|        57164800|                       0|                 0.0|         1|\n",
      "|         5989522|                       0|                 0.0|         0|\n",
      "|         7200000|                       0|                 0.0|         0|\n",
      "|         1313760|                       0|                 0.0|         0|\n",
      "|        14423992|                       0|                 0.0|         0|\n",
      "|        48000000|                       0|                 0.0|         0|\n",
      "|         4925163|                       0|                 0.0|         0|\n",
      "|         5250000|                       0|                 0.0|         0|\n",
      "|         1950000|                       0|                 0.0|         0|\n",
      "+----------------+------------------------+--------------------+----------+\n",
      "only showing top 20 rows\n",
      "\n"
     ]
    },
    {
     "name": "stderr",
     "output_type": "stream",
     "text": [
      "\r",
      "                                                                                \r"
     ]
    }
   ],
   "source": [
    "PRED_BIK.select('Cuantia Contrato','Valor Total de Adiciones','Porcentaje_Adiciones','prediction').show()"
   ]
  },
  {
   "cell_type": "code",
   "execution_count": 92,
   "id": "88755ccc",
   "metadata": {},
   "outputs": [
    {
     "name": "stderr",
     "output_type": "stream",
     "text": [
      "[Stage 2209:==============================================>       (25 + 4) / 29]\r"
     ]
    },
    {
     "name": "stdout",
     "output_type": "stream",
     "text": [
      "+----------+---------------------+---------------------+-------------------------+-------------------------+\n",
      "|prediction|max(Cuantia Contrato)|min(Cuantia Contrato)|min(Porcentaje_Adiciones)|max(Porcentaje_Adiciones)|\n",
      "+----------+---------------------+---------------------+-------------------------+-------------------------+\n",
      "|         1|           2147423167|              1000000|                      0.0|                   995.69|\n",
      "|         0|           2145700000|              1000000|                      0.0|                   999.99|\n",
      "+----------+---------------------+---------------------+-------------------------+-------------------------+\n",
      "\n"
     ]
    },
    {
     "name": "stderr",
     "output_type": "stream",
     "text": [
      "\r",
      "[Stage 2209:================================================>     (26 + 3) / 29]\r",
      "\r",
      "                                                                                \r"
     ]
    }
   ],
   "source": [
    "PRED_BIK.groupBy(\"prediction\").agg(max(col=\"Cuantia Contrato\"), min(col=\"Cuantia Contrato\"),\n",
    "                              min(col=\"Porcentaje_Adiciones\"),\n",
    "                              max(col=\"Porcentaje_Adiciones\")).show()"
   ]
  },
  {
   "cell_type": "markdown",
   "id": "7117adb8",
   "metadata": {},
   "source": [
    "La tabla anterior muestra que la división para dos grupos con BisectingKmeans no tiene en cuenta la cuantia del contrato de los porcentajes en adiciones, por lo cual no son modelos que permitan una buena segmentación de los datos."
   ]
  },
  {
   "cell_type": "code",
   "execution_count": 93,
   "id": "d2b9c607",
   "metadata": {},
   "outputs": [
    {
     "name": "stdout",
     "output_type": "stream",
     "text": [
      "root\n",
      " |-- Tipo de Proceso: string (nullable = true)\n",
      " |-- Objeto a Contratar: string (nullable = true)\n",
      " |-- Tipo de Contrato: string (nullable = true)\n",
      " |-- Nombre de la Entidad: string (nullable = true)\n",
      " |-- Nombre Grupo: string (nullable = true)\n",
      " |-- Nombre Clase: string (nullable = true)\n",
      " |-- Plazo de Ejec del Contrato: integer (nullable = true)\n",
      " |-- Rango de Ejec del Contrato: string (nullable = true)\n",
      " |-- Cuantia Contrato: integer (nullable = true)\n",
      " |-- Valor Total de Adiciones: integer (nullable = true)\n",
      " |-- Porcentaje_Adiciones: double (nullable = true)\n",
      " |-- Origen de los Recursos: string (nullable = true)\n",
      " |-- Municipio Entidad: string (nullable = true)\n",
      " |-- Departamento Entidad: string (nullable = true)\n",
      " |-- Tipo de ProcesoIndex: double (nullable = false)\n",
      " |-- Objeto a ContratarIndex: double (nullable = false)\n",
      " |-- Tipo de ContratoIndex: double (nullable = false)\n",
      " |-- Nombre de la EntidadIndex: double (nullable = false)\n",
      " |-- Nombre GrupoIndex: double (nullable = false)\n",
      " |-- Nombre ClaseIndex: double (nullable = false)\n",
      " |-- Rango de Ejec del ContratoIndex: double (nullable = false)\n",
      " |-- Origen de los RecursosIndex: double (nullable = false)\n",
      " |-- Municipio EntidadIndex: double (nullable = false)\n",
      " |-- Departamento EntidadIndex: double (nullable = false)\n",
      " |-- features: vector (nullable = true)\n",
      " |-- standardized: vector (nullable = true)\n",
      " |-- prediction: integer (nullable = false)\n",
      "\n"
     ]
    }
   ],
   "source": [
    "PRED_BIK.printSchema()"
   ]
  },
  {
   "cell_type": "code",
   "execution_count": 94,
   "id": "aa330f93",
   "metadata": {},
   "outputs": [
    {
     "name": "stderr",
     "output_type": "stream",
     "text": [
      "[Stage 2215:==============================================>       (25 + 4) / 29]\r"
     ]
    },
    {
     "name": "stdout",
     "output_type": "stream",
     "text": [
      "+----------+-------+\n",
      "|prediction|  count|\n",
      "+----------+-------+\n",
      "|         1|1973610|\n",
      "|         0|7341899|\n",
      "+----------+-------+\n",
      "\n"
     ]
    },
    {
     "name": "stderr",
     "output_type": "stream",
     "text": [
      "\r",
      "                                                                                \r"
     ]
    }
   ],
   "source": [
    "from pyspark.sql.functions import sum,avg,max\n",
    "\n",
    "PRED_BIK.groupBy(\"prediction\").count().show()"
   ]
  },
  {
   "cell_type": "markdown",
   "id": "2808a273",
   "metadata": {},
   "source": [
    "por medio de clustering con kmeans y bisectingkmeans no se logra una buena segmentacion de los datos que tenga en cuenta la cuantia de los contratos y su porcentaje en adiciones"
   ]
  },
  {
   "cell_type": "code",
   "execution_count": 29,
   "id": "436fde6f",
   "metadata": {},
   "outputs": [
    {
     "name": "stdout",
     "output_type": "stream",
     "text": [
      "root\n",
      " |-- Tipo de Proceso: string (nullable = true)\n",
      " |-- Objeto a Contratar: string (nullable = true)\n",
      " |-- Tipo de Contrato: string (nullable = true)\n",
      " |-- Nombre de la Entidad: string (nullable = true)\n",
      " |-- Nombre Grupo: string (nullable = true)\n",
      " |-- Nombre Clase: string (nullable = true)\n",
      " |-- Plazo de Ejec del Contrato: integer (nullable = true)\n",
      " |-- Rango de Ejec del Contrato: string (nullable = true)\n",
      " |-- Cuantia Contrato: integer (nullable = true)\n",
      " |-- Valor Total de Adiciones: integer (nullable = true)\n",
      " |-- Porcentaje_Adiciones: double (nullable = true)\n",
      " |-- Origen de los Recursos: string (nullable = true)\n",
      " |-- Municipio Entidad: string (nullable = true)\n",
      " |-- Departamento Entidad: string (nullable = true)\n",
      " |-- Tipo de ProcesoIndex: double (nullable = false)\n",
      " |-- Objeto a ContratarIndex: double (nullable = false)\n",
      " |-- Tipo de ContratoIndex: double (nullable = false)\n",
      " |-- Nombre de la EntidadIndex: double (nullable = false)\n",
      " |-- Nombre GrupoIndex: double (nullable = false)\n",
      " |-- Nombre ClaseIndex: double (nullable = false)\n",
      " |-- Rango de Ejec del ContratoIndex: double (nullable = false)\n",
      " |-- Origen de los RecursosIndex: double (nullable = false)\n",
      " |-- Municipio EntidadIndex: double (nullable = false)\n",
      " |-- Departamento EntidadIndex: double (nullable = false)\n",
      " |-- features: vector (nullable = true)\n",
      " |-- standardized: vector (nullable = true)\n",
      "\n"
     ]
    }
   ],
   "source": [
    "data_scale_output.printSchema()"
   ]
  },
  {
   "cell_type": "code",
   "execution_count": 96,
   "id": "3f9c8083",
   "metadata": {
    "scrolled": true
   },
   "outputs": [
    {
     "name": "stderr",
     "output_type": "stream",
     "text": [
      "[Stage 2221:==================================================>   (27 + 2) / 29]\r"
     ]
    },
    {
     "name": "stdout",
     "output_type": "stream",
     "text": [
      "+-------+--------------------+\n",
      "|summary|Porcentaje_Adiciones|\n",
      "+-------+--------------------+\n",
      "|  count|             9315509|\n",
      "|   mean|   4.017407763762553|\n",
      "| stddev|   21.08448255600406|\n",
      "|    min|                 0.0|\n",
      "|    25%|                 0.0|\n",
      "|    50%|                 0.0|\n",
      "|    75%|                 0.0|\n",
      "|    max|              999.99|\n",
      "+-------+--------------------+\n",
      "\n"
     ]
    },
    {
     "name": "stderr",
     "output_type": "stream",
     "text": [
      "\r",
      "                                                                                \r"
     ]
    }
   ],
   "source": [
    "data_scale_output.select('Porcentaje_Adiciones').summary().show()"
   ]
  },
  {
   "cell_type": "markdown",
   "id": "a8117f1f",
   "metadata": {},
   "source": [
    "### Creación variable Grupos\n",
    "Esta variable divide los datos en los contratos con valores en porcentaje de adiciones <=50% con la clase 0 y los >50% con clase 1."
   ]
  },
  {
   "cell_type": "code",
   "execution_count": 30,
   "id": "937a5af2",
   "metadata": {},
   "outputs": [],
   "source": [
    "from pyspark.ml.feature import Bucketizer\n",
    "\n",
    "bucketizer = Bucketizer(splits=[ 0,50.01,1000],inputCol='Porcentaje_Adiciones', outputCol=\"Grupos\")\n",
    "df_grupos = bucketizer.setHandleInvalid(\"keep\").transform(data_scale_output)\n",
    "# Grupo_0 porcentaje adiciones >= 0 y <=50\n",
    "# Grupo_1 porcentaje adiciones >50\n",
    "\n"
   ]
  },
  {
   "cell_type": "code",
   "execution_count": 100,
   "id": "1dfaa5fc",
   "metadata": {},
   "outputs": [
    {
     "name": "stdout",
     "output_type": "stream",
     "text": [
      "root\n",
      " |-- Tipo de Proceso: string (nullable = true)\n",
      " |-- Objeto a Contratar: string (nullable = true)\n",
      " |-- Tipo de Contrato: string (nullable = true)\n",
      " |-- Nombre de la Entidad: string (nullable = true)\n",
      " |-- Nombre Grupo: string (nullable = true)\n",
      " |-- Nombre Clase: string (nullable = true)\n",
      " |-- Plazo de Ejec del Contrato: integer (nullable = true)\n",
      " |-- Rango de Ejec del Contrato: string (nullable = true)\n",
      " |-- Cuantia Contrato: integer (nullable = true)\n",
      " |-- Valor Total de Adiciones: integer (nullable = true)\n",
      " |-- Porcentaje_Adiciones: double (nullable = true)\n",
      " |-- Origen de los Recursos: string (nullable = true)\n",
      " |-- Municipio Entidad: string (nullable = true)\n",
      " |-- Departamento Entidad: string (nullable = true)\n",
      " |-- Tipo de ProcesoIndex: double (nullable = false)\n",
      " |-- Objeto a ContratarIndex: double (nullable = false)\n",
      " |-- Tipo de ContratoIndex: double (nullable = false)\n",
      " |-- Nombre de la EntidadIndex: double (nullable = false)\n",
      " |-- Nombre GrupoIndex: double (nullable = false)\n",
      " |-- Nombre ClaseIndex: double (nullable = false)\n",
      " |-- Rango de Ejec del ContratoIndex: double (nullable = false)\n",
      " |-- Origen de los RecursosIndex: double (nullable = false)\n",
      " |-- Municipio EntidadIndex: double (nullable = false)\n",
      " |-- Departamento EntidadIndex: double (nullable = false)\n",
      " |-- features: vector (nullable = true)\n",
      " |-- standardized: vector (nullable = true)\n",
      " |-- Grupos: double (nullable = true)\n",
      "\n"
     ]
    }
   ],
   "source": [
    "df_grupos.printSchema()"
   ]
  },
  {
   "cell_type": "code",
   "execution_count": 106,
   "id": "7e08abe2",
   "metadata": {},
   "outputs": [
    {
     "name": "stderr",
     "output_type": "stream",
     "text": [
      "[Stage 2240:===================================================>(129 + 1) / 130]\r"
     ]
    },
    {
     "name": "stdout",
     "output_type": "stream",
     "text": [
      "+--------------------+------+\n",
      "|Porcentaje_Adiciones|Grupos|\n",
      "+--------------------+------+\n",
      "|               50.01|   1.0|\n",
      "|               50.01|   1.0|\n",
      "|               50.01|   1.0|\n",
      "|               50.01|   1.0|\n",
      "|               50.01|   1.0|\n",
      "|               50.01|   1.0|\n",
      "|               50.01|   1.0|\n",
      "|               50.01|   1.0|\n",
      "|               50.01|   1.0|\n",
      "|               50.01|   1.0|\n",
      "|               50.01|   1.0|\n",
      "|               50.01|   1.0|\n",
      "|               50.01|   1.0|\n",
      "|               50.01|   1.0|\n",
      "|               50.01|   1.0|\n",
      "|               50.01|   1.0|\n",
      "|               50.01|   1.0|\n",
      "|               50.01|   1.0|\n",
      "|               50.01|   1.0|\n",
      "|               50.01|   1.0|\n",
      "+--------------------+------+\n",
      "only showing top 20 rows\n",
      "\n"
     ]
    },
    {
     "name": "stderr",
     "output_type": "stream",
     "text": [
      "\r",
      "                                                                                \r"
     ]
    }
   ],
   "source": [
    "from pyspark.sql.functions import col\n",
    "df_grupos.select('Porcentaje_Adiciones','Grupos').filter(col('Porcentaje_Adiciones') ==50.01).show()"
   ]
  },
  {
   "cell_type": "code",
   "execution_count": 107,
   "id": "7c5e095e",
   "metadata": {},
   "outputs": [
    {
     "name": "stderr",
     "output_type": "stream",
     "text": [
      "[Stage 2245:==============================================>       (25 + 4) / 29]\r"
     ]
    },
    {
     "name": "stdout",
     "output_type": "stream",
     "text": [
      "+------+-------+\n",
      "|Grupos|  count|\n",
      "+------+-------+\n",
      "|   0.0|9246110|\n",
      "|   1.0|  69399|\n",
      "+------+-------+\n",
      "\n"
     ]
    },
    {
     "name": "stderr",
     "output_type": "stream",
     "text": [
      "\r",
      "[Stage 2245:====================================================> (28 + 1) / 29]\r",
      "\r",
      "                                                                                \r"
     ]
    }
   ],
   "source": [
    "df_grupos.groupBy(\"Grupos\").count().show()"
   ]
  },
  {
   "cell_type": "code",
   "execution_count": 108,
   "id": "ae907cba",
   "metadata": {},
   "outputs": [
    {
     "name": "stdout",
     "output_type": "stream",
     "text": [
      "root\n",
      " |-- Tipo de Proceso: string (nullable = true)\n",
      " |-- Objeto a Contratar: string (nullable = true)\n",
      " |-- Tipo de Contrato: string (nullable = true)\n",
      " |-- Nombre de la Entidad: string (nullable = true)\n",
      " |-- Nombre Grupo: string (nullable = true)\n",
      " |-- Nombre Clase: string (nullable = true)\n",
      " |-- Plazo de Ejec del Contrato: integer (nullable = true)\n",
      " |-- Rango de Ejec del Contrato: string (nullable = true)\n",
      " |-- Cuantia Contrato: integer (nullable = true)\n",
      " |-- Valor Total de Adiciones: integer (nullable = true)\n",
      " |-- Porcentaje_Adiciones: double (nullable = true)\n",
      " |-- Origen de los Recursos: string (nullable = true)\n",
      " |-- Municipio Entidad: string (nullable = true)\n",
      " |-- Departamento Entidad: string (nullable = true)\n",
      " |-- Tipo de ProcesoIndex: double (nullable = false)\n",
      " |-- Objeto a ContratarIndex: double (nullable = false)\n",
      " |-- Tipo de ContratoIndex: double (nullable = false)\n",
      " |-- Nombre de la EntidadIndex: double (nullable = false)\n",
      " |-- Nombre GrupoIndex: double (nullable = false)\n",
      " |-- Nombre ClaseIndex: double (nullable = false)\n",
      " |-- Rango de Ejec del ContratoIndex: double (nullable = false)\n",
      " |-- Origen de los RecursosIndex: double (nullable = false)\n",
      " |-- Municipio EntidadIndex: double (nullable = false)\n",
      " |-- Departamento EntidadIndex: double (nullable = false)\n",
      " |-- features: vector (nullable = true)\n",
      " |-- standardized: vector (nullable = true)\n",
      " |-- Grupos: double (nullable = true)\n",
      "\n"
     ]
    }
   ],
   "source": [
    "df_grupos.printSchema()"
   ]
  },
  {
   "cell_type": "markdown",
   "id": "efd28764",
   "metadata": {},
   "source": [
    "Se deben eliminar las columnas features,standardized, valor total de adiciones y porcentaje de adiciones y luego volver a crear la columna features,standardized y evaluar modelos"
   ]
  },
  {
   "cell_type": "code",
   "execution_count": 31,
   "id": "c1955a5b",
   "metadata": {},
   "outputs": [],
   "source": [
    "df_grupos=df_grupos.drop('Valor Total de Adiciones','Porcentaje_Adiciones','features','standardized')"
   ]
  },
  {
   "cell_type": "code",
   "execution_count": 32,
   "id": "233586f2",
   "metadata": {},
   "outputs": [
    {
     "name": "stdout",
     "output_type": "stream",
     "text": [
      "root\n",
      " |-- Tipo de Proceso: string (nullable = true)\n",
      " |-- Objeto a Contratar: string (nullable = true)\n",
      " |-- Tipo de Contrato: string (nullable = true)\n",
      " |-- Nombre de la Entidad: string (nullable = true)\n",
      " |-- Nombre Grupo: string (nullable = true)\n",
      " |-- Nombre Clase: string (nullable = true)\n",
      " |-- Plazo de Ejec del Contrato: integer (nullable = true)\n",
      " |-- Rango de Ejec del Contrato: string (nullable = true)\n",
      " |-- Cuantia Contrato: integer (nullable = true)\n",
      " |-- Origen de los Recursos: string (nullable = true)\n",
      " |-- Municipio Entidad: string (nullable = true)\n",
      " |-- Departamento Entidad: string (nullable = true)\n",
      " |-- Tipo de ProcesoIndex: double (nullable = false)\n",
      " |-- Objeto a ContratarIndex: double (nullable = false)\n",
      " |-- Tipo de ContratoIndex: double (nullable = false)\n",
      " |-- Nombre de la EntidadIndex: double (nullable = false)\n",
      " |-- Nombre GrupoIndex: double (nullable = false)\n",
      " |-- Nombre ClaseIndex: double (nullable = false)\n",
      " |-- Rango de Ejec del ContratoIndex: double (nullable = false)\n",
      " |-- Origen de los RecursosIndex: double (nullable = false)\n",
      " |-- Municipio EntidadIndex: double (nullable = false)\n",
      " |-- Departamento EntidadIndex: double (nullable = false)\n",
      " |-- Grupos: double (nullable = true)\n",
      "\n"
     ]
    }
   ],
   "source": [
    "df_grupos.printSchema()"
   ]
  },
  {
   "cell_type": "markdown",
   "id": "7b9cbb3e",
   "metadata": {},
   "source": [
    "### Creación de la variable features un vector con las variables predictoras indexadas"
   ]
  },
  {
   "cell_type": "code",
   "execution_count": 33,
   "id": "ab5ea3ce",
   "metadata": {},
   "outputs": [],
   "source": [
    "from pyspark.ml.feature import VectorAssembler\n",
    "\n",
    "assemble=VectorAssembler(inputCols=['Tipo de ProcesoIndex',\n",
    "        'Objeto a ContratarIndex',\n",
    "      'Tipo de ContratoIndex',\n",
    "       'Nombre de la EntidadIndex',\n",
    "       'Nombre GrupoIndex', 'Nombre ClaseIndex',\n",
    "       'Plazo de Ejec del Contrato', 'Rango de Ejec del ContratoIndex',\n",
    "       'Origen de los RecursosIndex',  'Municipio EntidadIndex', \n",
    "        'Departamento EntidadIndex','Cuantia Contrato'], outputCol='features')\n",
    "df_modelos=assemble.transform(df_grupos)"
   ]
  },
  {
   "cell_type": "markdown",
   "id": "16a45562",
   "metadata": {},
   "source": [
    "### Estandarización de las Features"
   ]
  },
  {
   "cell_type": "code",
   "execution_count": 34,
   "id": "596ba083",
   "metadata": {},
   "outputs": [
    {
     "name": "stderr",
     "output_type": "stream",
     "text": [
      "                                                                                \r"
     ]
    }
   ],
   "source": [
    "from pyspark.ml.feature import StandardScaler\n",
    "\n",
    "## Standard Scaling\n",
    "scale = StandardScaler(inputCol=\"features\", outputCol=\"standardized\")\n",
    "data_scale = scale.fit(df_modelos)\n",
    "df_modelos = data_scale.transform(df_modelos)\n"
   ]
  },
  {
   "cell_type": "code",
   "execution_count": 35,
   "id": "da405839",
   "metadata": {},
   "outputs": [
    {
     "name": "stdout",
     "output_type": "stream",
     "text": [
      "root\n",
      " |-- Tipo de Proceso: string (nullable = true)\n",
      " |-- Objeto a Contratar: string (nullable = true)\n",
      " |-- Tipo de Contrato: string (nullable = true)\n",
      " |-- Nombre de la Entidad: string (nullable = true)\n",
      " |-- Nombre Grupo: string (nullable = true)\n",
      " |-- Nombre Clase: string (nullable = true)\n",
      " |-- Plazo de Ejec del Contrato: integer (nullable = true)\n",
      " |-- Rango de Ejec del Contrato: string (nullable = true)\n",
      " |-- Cuantia Contrato: integer (nullable = true)\n",
      " |-- Origen de los Recursos: string (nullable = true)\n",
      " |-- Municipio Entidad: string (nullable = true)\n",
      " |-- Departamento Entidad: string (nullable = true)\n",
      " |-- Tipo de ProcesoIndex: double (nullable = false)\n",
      " |-- Objeto a ContratarIndex: double (nullable = false)\n",
      " |-- Tipo de ContratoIndex: double (nullable = false)\n",
      " |-- Nombre de la EntidadIndex: double (nullable = false)\n",
      " |-- Nombre GrupoIndex: double (nullable = false)\n",
      " |-- Nombre ClaseIndex: double (nullable = false)\n",
      " |-- Rango de Ejec del ContratoIndex: double (nullable = false)\n",
      " |-- Origen de los RecursosIndex: double (nullable = false)\n",
      " |-- Municipio EntidadIndex: double (nullable = false)\n",
      " |-- Departamento EntidadIndex: double (nullable = false)\n",
      " |-- Grupos: double (nullable = true)\n",
      " |-- features: vector (nullable = true)\n",
      " |-- standardized: vector (nullable = true)\n",
      "\n"
     ]
    }
   ],
   "source": [
    "df_modelos.printSchema()"
   ]
  },
  {
   "cell_type": "markdown",
   "id": "9395595c",
   "metadata": {},
   "source": [
    "### División en datos de entrenamiento y test para clases no balanceadas"
   ]
  },
  {
   "cell_type": "code",
   "execution_count": 114,
   "id": "6280bc4a",
   "metadata": {},
   "outputs": [
    {
     "name": "stderr",
     "output_type": "stream",
     "text": [
      "                                                                                \r"
     ]
    },
    {
     "name": "stdout",
     "output_type": "stream",
     "text": [
      "Training Dataset Count: 6520718\n"
     ]
    },
    {
     "name": "stderr",
     "output_type": "stream",
     "text": [
      "[Stage 2263:==============================================>       (25 + 4) / 29]\r"
     ]
    },
    {
     "name": "stdout",
     "output_type": "stream",
     "text": [
      "Test Dataset Count: 2794791\n"
     ]
    },
    {
     "name": "stderr",
     "output_type": "stream",
     "text": [
      "\r",
      "                                                                                \r"
     ]
    }
   ],
   "source": [
    "# set seed for reproducibility\n",
    "(trainingData, testData) = df_modelos.randomSplit([0.7, 0.3], seed = 100)\n",
    "print(\"Training Dataset Count: \" + str(trainingData.count()))\n",
    "print(\"Test Dataset Count: \" + str(testData.count()))"
   ]
  },
  {
   "cell_type": "markdown",
   "id": "23573a96",
   "metadata": {},
   "source": [
    "### Modelo regresión logística"
   ]
  },
  {
   "cell_type": "code",
   "execution_count": 116,
   "id": "6e6076e7",
   "metadata": {},
   "outputs": [
    {
     "name": "stderr",
     "output_type": "stream",
     "text": [
      "[Stage 2424:===================================================>(129 + 1) / 130]\r"
     ]
    }
   ],
   "source": [
    "from pyspark.ml.classification import LogisticRegression\n",
    "lr = LogisticRegression(featuresCol = 'standardized', labelCol = 'Grupos',family=\"binomial\")\n",
    "lrModel = lr.fit(trainingData)\n",
    "predic_lr = lrModel.transform(testData)\n"
   ]
  },
  {
   "cell_type": "code",
   "execution_count": 118,
   "id": "80500ae9",
   "metadata": {},
   "outputs": [
    {
     "name": "stderr",
     "output_type": "stream",
     "text": [
      "[Stage 2427:==============================================>       (25 + 4) / 29]\r"
     ]
    },
    {
     "name": "stdout",
     "output_type": "stream",
     "text": [
      "0.5\n"
     ]
    },
    {
     "name": "stderr",
     "output_type": "stream",
     "text": [
      "\r",
      "[Stage 2427:================================================>     (26 + 3) / 29]\r",
      "\r",
      "                                                                                \r"
     ]
    }
   ],
   "source": [
    "from pyspark.ml.evaluation import BinaryClassificationEvaluator\n",
    "eval = BinaryClassificationEvaluator(rawPredictionCol = \"prediction\", labelCol = \"Grupos\",metricName='areaUnderROC')\n",
    "auc = eval.evaluate(predic_lr)\n",
    "print(auc)"
   ]
  },
  {
   "cell_type": "code",
   "execution_count": 119,
   "id": "faa9f99d",
   "metadata": {},
   "outputs": [
    {
     "name": "stderr",
     "output_type": "stream",
     "text": [
      "                                                                                \r"
     ]
    },
    {
     "data": {
      "text/plain": [
       "0.9925074898266095"
      ]
     },
     "execution_count": 119,
     "metadata": {},
     "output_type": "execute_result"
    }
   ],
   "source": [
    "from pyspark.ml.evaluation import MulticlassClassificationEvaluator\n",
    "evaluator = MulticlassClassificationEvaluator(labelCol=\"Grupos\", predictionCol=\"prediction\", metricName=\"accuracy\")\n",
    "evaluator.evaluate(predic_lr)"
   ]
  },
  {
   "cell_type": "code",
   "execution_count": 120,
   "id": "3a2ba37b",
   "metadata": {},
   "outputs": [
    {
     "name": "stderr",
     "output_type": "stream",
     "text": [
      "                                                                                \r"
     ]
    },
    {
     "data": {
      "text/plain": [
       "0.9887753219413389"
      ]
     },
     "execution_count": 120,
     "metadata": {},
     "output_type": "execute_result"
    }
   ],
   "source": [
    "from pyspark.ml.evaluation import MulticlassClassificationEvaluator\n",
    "evaluator = MulticlassClassificationEvaluator(labelCol=\"Grupos\", predictionCol=\"prediction\", metricName=\"f1\")\n",
    "evaluator.evaluate(predic_lr)"
   ]
  },
  {
   "cell_type": "code",
   "execution_count": 122,
   "id": "8cbc729b",
   "metadata": {},
   "outputs": [
    {
     "name": "stderr",
     "output_type": "stream",
     "text": [
      "                                                                                \r"
     ]
    },
    {
     "data": {
      "text/plain": [
       "0.9925074898266095"
      ]
     },
     "execution_count": 122,
     "metadata": {},
     "output_type": "execute_result"
    }
   ],
   "source": [
    "from pyspark.ml.evaluation import MulticlassClassificationEvaluator\n",
    "evaluator = MulticlassClassificationEvaluator(labelCol=\"Grupos\", predictionCol=\"prediction\", metricName=\"precisionByLabel\")\n",
    "evaluator.evaluate(predic_lr)"
   ]
  },
  {
   "cell_type": "code",
   "execution_count": 123,
   "id": "4f96c091",
   "metadata": {},
   "outputs": [
    {
     "name": "stderr",
     "output_type": "stream",
     "text": [
      "                                                                                \r"
     ]
    },
    {
     "data": {
      "image/png": "[encoded data removed]",
      "text/plain": [
       "<Figure size 504x504 with 1 Axes>"
      ]
     },
     "metadata": {
      "needs_background": "light"
     },
     "output_type": "display_data"
    }
   ],
   "source": [
    "from pyspark.mllib.evaluation import MulticlassMetrics\n",
    "from pyspark.sql.types import FloatType\n",
    "#select only prediction and label columns\n",
    "labels = [0, 1]\n",
    "\n",
    "# important: need to cast to float type, and order by prediction, else it won't work\n",
    "preds_and_labels = predic_lr.select(['prediction','Grupos']).withColumn('Grupos', col('Grupos').cast(FloatType())).orderBy('prediction')\n",
    "# generate metrics\n",
    "metrics = MulticlassMetrics(preds_and_labels.rdd.map(tuple))\n",
    "\n",
    "# figure object\n",
    "_ = plt.figure(figsize=(7, 7))\n",
    "\n",
    "# plot confusion matrix\n",
    "sns.heatmap(metrics.confusionMatrix().toArray(),\n",
    "            cmap='viridis',\n",
    "            annot=True,fmt='0',\n",
    "            cbar=False, \n",
    "            xticklabels=labels, \n",
    "            yticklabels=labels)\n",
    "plt.show()\n",
    "\n"
   ]
  },
  {
   "cell_type": "code",
   "execution_count": 124,
   "id": "0940d52f",
   "metadata": {},
   "outputs": [
    {
     "data": {
      "text/plain": [
       "0.0"
      ]
     },
     "execution_count": 124,
     "metadata": {},
     "output_type": "execute_result"
    }
   ],
   "source": [
    "metrics.precision(1.0)"
   ]
  },
  {
   "cell_type": "markdown",
   "id": "43ca1935",
   "metadata": {},
   "source": [
    "Para este modelo se tiene un pésimo desempeño evaluando la clase 1 debido a que las clases no están balanceadas y se predice la mayoría como clase 0."
   ]
  },
  {
   "cell_type": "markdown",
   "id": "93195387",
   "metadata": {},
   "source": [
    "### Modelo Naive Bayes"
   ]
  },
  {
   "cell_type": "code",
   "execution_count": 125,
   "id": "f9a3b6e3",
   "metadata": {},
   "outputs": [
    {
     "name": "stderr",
     "output_type": "stream",
     "text": [
      "                                                                                \r"
     ]
    }
   ],
   "source": [
    "from pyspark.ml.classification import NaiveBayes\n",
    "nb = NaiveBayes(smoothing=1,labelCol=\"Grupos\", featuresCol='standardized')\n",
    "model = nb.fit(trainingData)\n",
    "pred_nb = model.transform(testData)"
   ]
  },
  {
   "cell_type": "code",
   "execution_count": 127,
   "id": "b430ed8c",
   "metadata": {},
   "outputs": [
    {
     "name": "stderr",
     "output_type": "stream",
     "text": [
      "[Stage 2474:==============================================>       (25 + 4) / 29]\r"
     ]
    },
    {
     "name": "stdout",
     "output_type": "stream",
     "text": [
      "0.5491060608477307\n"
     ]
    },
    {
     "name": "stderr",
     "output_type": "stream",
     "text": [
      "\r",
      "                                                                                \r"
     ]
    }
   ],
   "source": [
    "from pyspark.ml.evaluation import BinaryClassificationEvaluator\n",
    "eval = BinaryClassificationEvaluator(rawPredictionCol = \"prediction\", labelCol = \"Grupos\",metricName='areaUnderROC')\n",
    "auc = eval.evaluate(pred_nb)\n",
    "print(auc)\n"
   ]
  },
  {
   "cell_type": "code",
   "execution_count": 128,
   "id": "407104e3",
   "metadata": {},
   "outputs": [
    {
     "name": "stderr",
     "output_type": "stream",
     "text": [
      "                                                                                \r"
     ]
    },
    {
     "data": {
      "text/plain": [
       "0.8085878913440622"
      ]
     },
     "execution_count": 128,
     "metadata": {},
     "output_type": "execute_result"
    }
   ],
   "source": [
    "from pyspark.ml.evaluation import MulticlassClassificationEvaluator\n",
    "evaluator = MulticlassClassificationEvaluator(labelCol=\"Grupos\", predictionCol=\"prediction\", metricName='f1')\n",
    "evaluator.evaluate(pred_nb)"
   ]
  },
  {
   "cell_type": "code",
   "execution_count": 129,
   "id": "b479f405",
   "metadata": {},
   "outputs": [
    {
     "name": "stderr",
     "output_type": "stream",
     "text": [
      "                                                                                \r"
     ]
    },
    {
     "data": {
      "image/png": "[encoded data removed]",
      "text/plain": [
       "<Figure size 504x504 with 1 Axes>"
      ]
     },
     "metadata": {
      "needs_background": "light"
     },
     "output_type": "display_data"
    }
   ],
   "source": [
    "from pyspark.mllib.evaluation import MulticlassMetrics\n",
    "from pyspark.sql.types import FloatType\n",
    "#select only prediction and label columns\n",
    "labels = [0, 1]\n",
    "\n",
    "# important: need to cast to float type, and order by prediction, else it won't work\n",
    "preds_and_labels = pred_nb.select(['prediction','Grupos']).withColumn('Grupos', col('Grupos').cast(FloatType())).orderBy('prediction')\n",
    "# generate metrics\n",
    "metrics = MulticlassMetrics(preds_and_labels.rdd.map(tuple))\n",
    "\n",
    "# figure object\n",
    "_ = plt.figure(figsize=(7, 7))\n",
    "\n",
    "# plot confusion matrix\n",
    "sns.heatmap(metrics.confusionMatrix().toArray(),\n",
    "            cmap='viridis',\n",
    "            annot=True,fmt='0',\n",
    "            cbar=False, \n",
    "            xticklabels=labels, \n",
    "            yticklabels=labels)\n",
    "plt.show()\n"
   ]
  },
  {
   "cell_type": "code",
   "execution_count": 130,
   "id": "6b1ddfcf",
   "metadata": {},
   "outputs": [
    {
     "data": {
      "text/plain": [
       "0.009844304671090305"
      ]
     },
     "execution_count": 130,
     "metadata": {},
     "output_type": "execute_result"
    }
   ],
   "source": [
    "metrics.precision(1.0)"
   ]
  },
  {
   "cell_type": "markdown",
   "id": "7e3dc886",
   "metadata": {},
   "source": [
    "Para este modelo se tiene un pésimo desempeño evaluando la clase 1 debido a que las clases no están balanceadas y se predice la mayoría como clase 0."
   ]
  },
  {
   "cell_type": "markdown",
   "id": "89e8b57a",
   "metadata": {},
   "source": [
    "## Balanceo de clases"
   ]
  },
  {
   "cell_type": "markdown",
   "id": "9fbae391",
   "metadata": {},
   "source": [
    "### Balanceo de la clase 0"
   ]
  },
  {
   "cell_type": "markdown",
   "id": "07d66293",
   "metadata": {},
   "source": [
    "Se realiza un muestreo con una menor fraccion del grupo cero que es el mas abundante"
   ]
  },
  {
   "cell_type": "code",
   "execution_count": 36,
   "id": "e35d3c19",
   "metadata": {},
   "outputs": [],
   "source": [
    "s_data=df_modelos.sampleBy(\"Grupos\", fractions={0:0.50,1:1},seed=1234 )"
   ]
  },
  {
   "cell_type": "code",
   "execution_count": 37,
   "id": "35aa0da5",
   "metadata": {},
   "outputs": [
    {
     "name": "stderr",
     "output_type": "stream",
     "text": [
      "[Stage 100:===============================================>       (25 + 4) / 29]\r"
     ]
    },
    {
     "name": "stdout",
     "output_type": "stream",
     "text": [
      "+------+-------+\n",
      "|Grupos|  count|\n",
      "+------+-------+\n",
      "|   0.0|4623049|\n",
      "|   1.0|  69399|\n",
      "+------+-------+\n",
      "\n"
     ]
    },
    {
     "name": "stderr",
     "output_type": "stream",
     "text": [
      "\r",
      "                                                                                \r"
     ]
    }
   ],
   "source": [
    "s_data.groupBy(\"Grupos\").count().show()"
   ]
  },
  {
   "cell_type": "markdown",
   "id": "a6f457fa",
   "metadata": {},
   "source": [
    "### Balanceo de la clase 1"
   ]
  },
  {
   "cell_type": "code",
   "execution_count": 38,
   "id": "1cb6c120",
   "metadata": {},
   "outputs": [],
   "source": [
    "from pyspark.sql.functions import col\n",
    "g1 = s_data.filter(col(\"Grupos\") == 1)\n",
    "g0=s_data.filter(col(\"Grupos\") == 0)"
   ]
  },
  {
   "cell_type": "code",
   "execution_count": 39,
   "id": "c9d5cde3",
   "metadata": {},
   "outputs": [],
   "source": [
    "# numero de veces de la clase 1 en la clase 0\n",
    "r1=int(4623049/69399)\n"
   ]
  },
  {
   "cell_type": "code",
   "execution_count": 40,
   "id": "b6aa1f17",
   "metadata": {},
   "outputs": [],
   "source": [
    "from pyspark.sql.functions import col, explode, array, lit\n",
    "a = range(r1)# duplicate the minority rows\n",
    "oversampled_g1 = g1.withColumn(\"dummy\", explode(array([lit(x) for x in a]))).drop('dummy')\n",
    "# combine both oversampled minority rows and previous majority rows \n",
    "combined_df = g0.unionAll(oversampled_g1)\n"
   ]
  },
  {
   "cell_type": "code",
   "execution_count": 41,
   "id": "c35180e0",
   "metadata": {},
   "outputs": [
    {
     "name": "stderr",
     "output_type": "stream",
     "text": [
      "[Stage 106:=================================================>     (52 + 6) / 58]\r"
     ]
    },
    {
     "name": "stdout",
     "output_type": "stream",
     "text": [
      "+------+-------+\n",
      "|Grupos|  count|\n",
      "+------+-------+\n",
      "|   0.0|4623049|\n",
      "|   1.0|4580334|\n",
      "+------+-------+\n",
      "\n"
     ]
    },
    {
     "name": "stderr",
     "output_type": "stream",
     "text": [
      "\r",
      "                                                                                \r"
     ]
    }
   ],
   "source": [
    "combined_df.groupBy(\"Grupos\").count().show()"
   ]
  },
  {
   "cell_type": "markdown",
   "id": "3611ccda",
   "metadata": {},
   "source": [
    "Al final del proceso los datos se encuentran lo suficientemente balanceados para efectuar la evaluación de modelos."
   ]
  },
  {
   "cell_type": "markdown",
   "id": "87e52518",
   "metadata": {},
   "source": [
    "### División en datos de entrenamiento y datos de test"
   ]
  },
  {
   "cell_type": "code",
   "execution_count": 42,
   "id": "73edb9bc",
   "metadata": {},
   "outputs": [
    {
     "name": "stderr",
     "output_type": "stream",
     "text": [
      "                                                                                \r"
     ]
    },
    {
     "name": "stdout",
     "output_type": "stream",
     "text": [
      "Training Dataset Count: 6443635\n"
     ]
    },
    {
     "name": "stderr",
     "output_type": "stream",
     "text": [
      "[Stage 118:======================================================>(57 + 1) / 58]\r"
     ]
    },
    {
     "name": "stdout",
     "output_type": "stream",
     "text": [
      "Test Dataset Count: 2759748\n"
     ]
    },
    {
     "name": "stderr",
     "output_type": "stream",
     "text": [
      "\r",
      "                                                                                \r"
     ]
    }
   ],
   "source": [
    "# set seed for reproducibility\n",
    "(trainingData, testData) = combined_df.randomSplit([0.7, 0.3], seed = 100)\n",
    "print(\"Training Dataset Count: \" + str(trainingData.count()))\n",
    "print(\"Test Dataset Count: \" + str(testData.count()))"
   ]
  },
  {
   "cell_type": "markdown",
   "id": "c605b849",
   "metadata": {},
   "source": [
    "## Evaluación de modelos con clases balanceadas"
   ]
  },
  {
   "cell_type": "markdown",
   "id": "b46aa70a",
   "metadata": {},
   "source": [
    "Primero se observa el desempeño de los modelos usando la métrica AUC que presenta resultados mas robustos, para posteriormente evaluar los mejores modelos con las principales métricas y buscar el mejor modelo."
   ]
  },
  {
   "cell_type": "markdown",
   "id": "0e877c00",
   "metadata": {},
   "source": [
    "### Modelo regresión logística "
   ]
  },
  {
   "cell_type": "code",
   "execution_count": 139,
   "id": "6eab3278",
   "metadata": {},
   "outputs": [
    {
     "name": "stderr",
     "output_type": "stream",
     "text": [
      "[Stage 2579:===================================================>(128 + 2) / 130]\r"
     ]
    }
   ],
   "source": [
    "from pyspark.ml.classification import LogisticRegression\n",
    "lr = LogisticRegression(family=\"binomial\",featuresCol = 'standardized', labelCol = 'Grupos')\n",
    "lrModel = lr.fit(trainingData)\n",
    "predictions = lrModel.transform(testData)\n"
   ]
  },
  {
   "cell_type": "code",
   "execution_count": 140,
   "id": "a56325bb",
   "metadata": {},
   "outputs": [
    {
     "name": "stderr",
     "output_type": "stream",
     "text": [
      "[Stage 2582:=====================================================>(57 + 1) / 58]\r"
     ]
    },
    {
     "name": "stdout",
     "output_type": "stream",
     "text": [
      "0.6752779554657126\n"
     ]
    },
    {
     "name": "stderr",
     "output_type": "stream",
     "text": [
      "\r",
      "                                                                                \r"
     ]
    }
   ],
   "source": [
    "from pyspark.ml.evaluation import BinaryClassificationEvaluator\n",
    "eval = BinaryClassificationEvaluator(rawPredictionCol = \"prediction\", labelCol = \"Grupos\",metricName='areaUnderROC')\n",
    "auc = eval.evaluate(predictions)\n",
    "print(auc)"
   ]
  },
  {
   "cell_type": "code",
   "execution_count": 141,
   "id": "568532e7",
   "metadata": {},
   "outputs": [
    {
     "name": "stderr",
     "output_type": "stream",
     "text": [
      "                                                                                \r"
     ]
    },
    {
     "data": {
      "image/png": "[encoded data removed]",
      "text/plain": [
       "<Figure size 504x504 with 1 Axes>"
      ]
     },
     "metadata": {
      "needs_background": "light"
     },
     "output_type": "display_data"
    }
   ],
   "source": [
    "from pyspark.mllib.evaluation import MulticlassMetrics\n",
    "from pyspark.sql.types import FloatType\n",
    "#select only prediction and label columns\n",
    "labels = [0, 1]\n",
    "\n",
    "# important: need to cast to float type, and order by prediction, else it won't work\n",
    "preds_and_labels = predictions.select(['prediction','Grupos']).withColumn('Grupos', col('Grupos').cast(FloatType())).orderBy('prediction')\n",
    "# generate metrics\n",
    "metrics = MulticlassMetrics(preds_and_labels.rdd.map(tuple))\n",
    "\n",
    "# figure object\n",
    "_ = plt.figure(figsize=(7, 7))\n",
    "\n",
    "# plot confusion matrix\n",
    "sns.heatmap(metrics.confusionMatrix().toArray(),\n",
    "            cmap='viridis',\n",
    "            annot=True,fmt='0',\n",
    "            cbar=False, \n",
    "            xticklabels=labels, \n",
    "            yticklabels=labels)\n",
    "plt.show()"
   ]
  },
  {
   "cell_type": "code",
   "execution_count": 142,
   "id": "522b0f6f",
   "metadata": {},
   "outputs": [
    {
     "data": {
      "text/plain": [
       "0.6490159128847272"
      ]
     },
     "execution_count": 142,
     "metadata": {},
     "output_type": "execute_result"
    }
   ],
   "source": [
    "metrics.precision(1.0)"
   ]
  },
  {
   "cell_type": "code",
   "execution_count": 143,
   "id": "c511a199",
   "metadata": {},
   "outputs": [
    {
     "name": "stderr",
     "output_type": "stream",
     "text": [
      "                                                                                \r"
     ]
    },
    {
     "data": {
      "text/plain": [
       "0.6749174199963185"
      ]
     },
     "execution_count": 143,
     "metadata": {},
     "output_type": "execute_result"
    }
   ],
   "source": [
    "from pyspark.ml.evaluation import MulticlassClassificationEvaluator\n",
    "evaluator = MulticlassClassificationEvaluator(labelCol=\"Grupos\", predictionCol=\"prediction\", metricName=\"accuracy\")\n",
    "evaluator.evaluate(predictions)"
   ]
  },
  {
   "cell_type": "markdown",
   "id": "b90f01cc",
   "metadata": {},
   "source": [
    "### Modelo Naive Bayes"
   ]
  },
  {
   "cell_type": "code",
   "execution_count": 146,
   "id": "b726e5bd",
   "metadata": {},
   "outputs": [
    {
     "name": "stderr",
     "output_type": "stream",
     "text": [
      "                                                                                \r"
     ]
    }
   ],
   "source": [
    "from pyspark.ml.classification import NaiveBayes\n",
    "nb = NaiveBayes(smoothing=1,labelCol=\"Grupos\", featuresCol='standardized')\n",
    "model = nb.fit(trainingData)\n",
    "pred_nb = model.transform(testData)"
   ]
  },
  {
   "cell_type": "code",
   "execution_count": 147,
   "id": "e0ae95b9",
   "metadata": {},
   "outputs": [
    {
     "name": "stderr",
     "output_type": "stream",
     "text": [
      "[Stage 2644:=====================================================>(57 + 1) / 58]\r"
     ]
    },
    {
     "name": "stdout",
     "output_type": "stream",
     "text": [
      "0.6847677609931306\n"
     ]
    },
    {
     "name": "stderr",
     "output_type": "stream",
     "text": [
      "\r",
      "                                                                                \r"
     ]
    }
   ],
   "source": [
    "from pyspark.ml.evaluation import BinaryClassificationEvaluator\n",
    "eval = BinaryClassificationEvaluator(rawPredictionCol = \"prediction\", labelCol = \"Grupos\",metricName='areaUnderROC')\n",
    "auc = eval.evaluate(pred_nb)\n",
    "print(auc)"
   ]
  },
  {
   "cell_type": "code",
   "execution_count": 148,
   "id": "88d87e42",
   "metadata": {},
   "outputs": [
    {
     "name": "stderr",
     "output_type": "stream",
     "text": [
      "                                                                                \r"
     ]
    },
    {
     "data": {
      "text/plain": [
       "0.6846472938833545"
      ]
     },
     "execution_count": 148,
     "metadata": {},
     "output_type": "execute_result"
    }
   ],
   "source": [
    "from pyspark.ml.evaluation import MulticlassClassificationEvaluator\n",
    "evaluator = MulticlassClassificationEvaluator(labelCol=\"Grupos\", predictionCol=\"prediction\", metricName='accuracy')\n",
    "evaluator.evaluate(pred_nb)"
   ]
  },
  {
   "cell_type": "code",
   "execution_count": 149,
   "id": "1aa2e16e",
   "metadata": {},
   "outputs": [
    {
     "name": "stderr",
     "output_type": "stream",
     "text": [
      "                                                                                \r"
     ]
    },
    {
     "data": {
      "text/plain": [
       "0.6844364140803022"
      ]
     },
     "execution_count": 149,
     "metadata": {},
     "output_type": "execute_result"
    }
   ],
   "source": [
    "from pyspark.ml.evaluation import MulticlassClassificationEvaluator\n",
    "evaluator = MulticlassClassificationEvaluator(labelCol=\"Grupos\", predictionCol=\"prediction\", metricName='f1')\n",
    "evaluator.evaluate(pred_nb)"
   ]
  },
  {
   "cell_type": "code",
   "execution_count": 150,
   "id": "fa68d56a",
   "metadata": {},
   "outputs": [
    {
     "name": "stderr",
     "output_type": "stream",
     "text": [
      "                                                                                \r"
     ]
    },
    {
     "data": {
      "image/png": "[encoded data removed]",
      "text/plain": [
       "<Figure size 504x504 with 1 Axes>"
      ]
     },
     "metadata": {
      "needs_background": "light"
     },
     "output_type": "display_data"
    }
   ],
   "source": [
    "from pyspark.mllib.evaluation import MulticlassMetrics\n",
    "from pyspark.sql.types import FloatType\n",
    "#select only prediction and label columns\n",
    "labels = [0, 1]\n",
    "\n",
    "# important: need to cast to float type, and order by prediction, else it won't work\n",
    "preds_and_labels = pred_nb.select(['prediction','Grupos']).withColumn('Grupos', col('Grupos').cast(FloatType())).orderBy('prediction')\n",
    "# generate metrics\n",
    "metrics = MulticlassMetrics(preds_and_labels.rdd.map(tuple))\n",
    "\n",
    "# figure object\n",
    "_ = plt.figure(figsize=(7, 7))\n",
    "\n",
    "# plot confusion matrix\n",
    "sns.heatmap(metrics.confusionMatrix().toArray(),\n",
    "            cmap='viridis',\n",
    "            annot=True,fmt='0',\n",
    "            cbar=False, \n",
    "            xticklabels=labels, \n",
    "            yticklabels=labels)\n",
    "plt.show()"
   ]
  },
  {
   "cell_type": "code",
   "execution_count": 161,
   "id": "7a811bd1",
   "metadata": {},
   "outputs": [
    {
     "data": {
      "text/plain": [
       "0.6733988338871325"
      ]
     },
     "execution_count": 161,
     "metadata": {},
     "output_type": "execute_result"
    }
   ],
   "source": [
    "metrics.precision(1.0)"
   ]
  },
  {
   "cell_type": "markdown",
   "id": "32dfa37b",
   "metadata": {},
   "source": [
    "Se decide evaluar varios modelos para regresión logística y para Naive Bayes"
   ]
  },
  {
   "cell_type": "markdown",
   "id": "fe6ec2ce",
   "metadata": {},
   "source": [
    "### Se evalúan varios modelos para Naive Bayes"
   ]
  },
  {
   "cell_type": "code",
   "execution_count": 166,
   "id": "9aa1f673",
   "metadata": {},
   "outputs": [],
   "source": [
    "from pyspark.ml.tuning import CrossValidator, ParamGridBuilder\n",
    "from pyspark.ml.classification import NaiveBayes\n",
    "from pyspark.ml.evaluation import BinaryClassificationEvaluator\n",
    "nb = NaiveBayes(labelCol=\"Grupos\", featuresCol='standardized')\n",
    "\n",
    "\n",
    "paramGrid_nb = ParamGridBuilder().addGrid(nb.smoothing, np.linspace(0.3, 10, 10)).build()\n",
    "    \n",
    "crossval_nb = CrossValidator(estimator=nb,estimatorParamMaps=paramGrid_nb,evaluator=BinaryClassificationEvaluator(labelCol = \"Grupos\"),numFolds= 5) \n"
   ]
  },
  {
   "cell_type": "code",
   "execution_count": 167,
   "id": "c5246c37",
   "metadata": {},
   "outputs": [
    {
     "name": "stderr",
     "output_type": "stream",
     "text": [
      "                                                                                \r"
     ]
    }
   ],
   "source": [
    "cvModel_nb = crossval_nb.fit(trainingData)"
   ]
  },
  {
   "cell_type": "code",
   "execution_count": 168,
   "id": "22642af1",
   "metadata": {},
   "outputs": [
    {
     "data": {
      "text/plain": [
       "[0.6421335623305158,\n",
       " 0.6421285438632621,\n",
       " 0.6421280909203378,\n",
       " 0.6421316310967833,\n",
       " 0.6421286454223548,\n",
       " 0.6421231293857297,\n",
       " 0.6421286877014809,\n",
       " 0.6421307686980706,\n",
       " 0.6421222507847977,\n",
       " 0.64212984084086]"
      ]
     },
     "execution_count": 168,
     "metadata": {},
     "output_type": "execute_result"
    }
   ],
   "source": [
    "cvModel_nb.avgMetrics"
   ]
  },
  {
   "cell_type": "code",
   "execution_count": null,
   "id": "21ccd386",
   "metadata": {},
   "outputs": [],
   "source": [
    "predictions_nb = cvModel_nb.transform(testData)"
   ]
  },
  {
   "cell_type": "markdown",
   "id": "712fb81b",
   "metadata": {},
   "source": [
    "### Se evalúan varios modelos para regresión logística"
   ]
  },
  {
   "cell_type": "code",
   "execution_count": 169,
   "id": "e19b25bc",
   "metadata": {},
   "outputs": [],
   "source": [
    "lr = LogisticRegression(maxIter = 10,featuresCol = 'standardized', labelCol = 'Grupos')\n",
    "\n",
    "paramGrid_lr = ParamGridBuilder() \\\n",
    "    .addGrid(lr.regParam, np.linspace(0.3, 0.01, 10)) \\\n",
    "    .addGrid(lr.elasticNetParam, np.linspace(0.3, 0.8, 6)) \\\n",
    "    .build()\n",
    "crossval_lr = CrossValidator(estimator=lr,\n",
    "                          estimatorParamMaps=paramGrid_lr,\n",
    "                          evaluator=BinaryClassificationEvaluator(labelCol = \"Grupos\"),\n",
    "                          numFolds= 5)  "
   ]
  },
  {
   "cell_type": "code",
   "execution_count": 170,
   "id": "0ff84659",
   "metadata": {},
   "outputs": [
    {
     "name": "stderr",
     "output_type": "stream",
     "text": [
      "[Stage 17714:=================================================> (125 + 5) / 130]\r"
     ]
    }
   ],
   "source": [
    "cvModel_lr = crossval_lr.fit(trainingData)"
   ]
  },
  {
   "cell_type": "code",
   "execution_count": 171,
   "id": "eac9e30c",
   "metadata": {},
   "outputs": [],
   "source": [
    "predictions_lr = cvModel_lr.transform(testData)"
   ]
  },
  {
   "cell_type": "code",
   "execution_count": 177,
   "id": "0118dcd4",
   "metadata": {},
   "outputs": [
    {
     "name": "stderr",
     "output_type": "stream",
     "text": [
      "[Stage 17770:===================================================> (56 + 2) / 58]\r"
     ]
    },
    {
     "name": "stdout",
     "output_type": "stream",
     "text": [
      "0.6744157168027388\n"
     ]
    },
    {
     "name": "stderr",
     "output_type": "stream",
     "text": [
      "\r",
      "                                                                                \r"
     ]
    }
   ],
   "source": [
    "from pyspark.ml.evaluation import BinaryClassificationEvaluator\n",
    "eval = BinaryClassificationEvaluator(rawPredictionCol = \"prediction\", labelCol = \"Grupos\",metricName='areaUnderROC')\n",
    "auc_lr = eval.evaluate(predictions_lr)\n",
    "print(auc_lr)"
   ]
  },
  {
   "cell_type": "markdown",
   "id": "bb4f603e",
   "metadata": {},
   "source": [
    "No se observa una mejora significativa en el desempeño de los modelos anteriores"
   ]
  },
  {
   "cell_type": "markdown",
   "id": "405a9a17",
   "metadata": {},
   "source": [
    "### Modelo Arboles de decisión profundidad máxima 4"
   ]
  },
  {
   "cell_type": "code",
   "execution_count": 173,
   "id": "83c51cce",
   "metadata": {},
   "outputs": [
    {
     "data": {
      "text/plain": [
       "DecisionTreeClassifier_a18f4fd2e918"
      ]
     },
     "execution_count": 173,
     "metadata": {},
     "output_type": "execute_result"
    }
   ],
   "source": [
    "from pyspark.ml.classification import DecisionTreeClassifier\n",
    "params = {'maxDepth':4}\n",
    "\n",
    "dTree_classifier = DecisionTreeClassifier(**params, seed= 13,featuresCol = 'standardized', labelCol = 'Grupos')\n",
    "dTree_classifier"
   ]
  },
  {
   "cell_type": "code",
   "execution_count": 174,
   "id": "d64d0657",
   "metadata": {},
   "outputs": [
    {
     "name": "stderr",
     "output_type": "stream",
     "text": [
      "                                                                                \r"
     ]
    }
   ],
   "source": [
    "dTree_model = dTree_classifier.fit(trainingData)"
   ]
  },
  {
   "cell_type": "code",
   "execution_count": 175,
   "id": "263721e3",
   "metadata": {},
   "outputs": [],
   "source": [
    "predictionAndLabels = dTree_model.transform(testData)"
   ]
  },
  {
   "cell_type": "code",
   "execution_count": 178,
   "id": "dc9b2d8d",
   "metadata": {},
   "outputs": [
    {
     "name": "stderr",
     "output_type": "stream",
     "text": [
      "[Stage 17786:================================================>    (53 + 5) / 58]\r"
     ]
    },
    {
     "name": "stdout",
     "output_type": "stream",
     "text": [
      "0.766248952032011\n"
     ]
    },
    {
     "name": "stderr",
     "output_type": "stream",
     "text": [
      "\r",
      "                                                                                \r"
     ]
    }
   ],
   "source": [
    "from pyspark.ml.evaluation import BinaryClassificationEvaluator\n",
    "eval = BinaryClassificationEvaluator(rawPredictionCol = \"prediction\", labelCol = \"Grupos\",metricName='areaUnderROC')\n",
    "auc_dc = eval.evaluate(predictionAndLabels)\n",
    "print(auc_dc)"
   ]
  },
  {
   "cell_type": "markdown",
   "id": "77fef8bd",
   "metadata": {},
   "source": [
    "Debido a los buenos resultados del modelo de arboles de decisión se decide hacer 3 modelos cambiando el parámetro maxdepth con 20, 24 y 30 respectivamente, para observar la mejora en las métricas."
   ]
  },
  {
   "cell_type": "markdown",
   "id": "93730725",
   "metadata": {},
   "source": [
    "### Modelo 1 Arboles de decisión profundidad máxima 20"
   ]
  },
  {
   "cell_type": "code",
   "execution_count": 43,
   "id": "0e787ccd",
   "metadata": {},
   "outputs": [
    {
     "data": {
      "text/plain": [
       "DecisionTreeClassifier_97cc20aa513f"
      ]
     },
     "execution_count": 43,
     "metadata": {},
     "output_type": "execute_result"
    }
   ],
   "source": [
    "from pyspark.ml.classification import DecisionTreeClassifier\n",
    "params_1 = {'maxDepth':20}\n",
    "\n",
    "dTree_classifier_1 = DecisionTreeClassifier(**params_1, seed= 13,featuresCol = 'standardized', labelCol = 'Grupos')\n",
    "dTree_classifier_1"
   ]
  },
  {
   "cell_type": "code",
   "execution_count": 44,
   "id": "c0a5b602",
   "metadata": {},
   "outputs": [
    {
     "name": "stderr",
     "output_type": "stream",
     "text": [
      "                                                                                \r"
     ]
    }
   ],
   "source": [
    "dTree_model_1 = dTree_classifier_1.fit(trainingData)"
   ]
  },
  {
   "cell_type": "code",
   "execution_count": 45,
   "id": "7263361a",
   "metadata": {},
   "outputs": [],
   "source": [
    "predictionAndLabels_1 = dTree_model_1.transform(testData)"
   ]
  },
  {
   "cell_type": "code",
   "execution_count": 46,
   "id": "4dab8203",
   "metadata": {},
   "outputs": [
    {
     "name": "stderr",
     "output_type": "stream",
     "text": [
      "[Stage 193:======================================================>(57 + 1) / 58]\r"
     ]
    },
    {
     "name": "stdout",
     "output_type": "stream",
     "text": [
      "0.9370594399178828\n"
     ]
    },
    {
     "name": "stderr",
     "output_type": "stream",
     "text": [
      "\r",
      "                                                                                \r"
     ]
    }
   ],
   "source": [
    "from pyspark.ml.evaluation import BinaryClassificationEvaluator\n",
    "eval = BinaryClassificationEvaluator(rawPredictionCol = \"prediction\", labelCol = \"Grupos\",metricName='areaUnderROC')\n",
    "auc_dc1 = eval.evaluate(predictionAndLabels_1)\n",
    "print(auc_dc1)"
   ]
  },
  {
   "cell_type": "code",
   "execution_count": 193,
   "id": "2eaf5a04",
   "metadata": {},
   "outputs": [
    {
     "name": "stderr",
     "output_type": "stream",
     "text": [
      "                                                                                \r"
     ]
    },
    {
     "data": {
      "text/html": [
       "<div>\n",
       "<style scoped>\n",
       "    .dataframe tbody tr th:only-of-type {\n",
       "        vertical-align: middle;\n",
       "    }\n",
       "\n",
       "    .dataframe tbody tr th {\n",
       "        vertical-align: top;\n",
       "    }\n",
       "\n",
       "    .dataframe thead th {\n",
       "        text-align: right;\n",
       "    }\n",
       "</style>\n",
       "<table border=\"1\" class=\"dataframe\">\n",
       "  <thead>\n",
       "    <tr style=\"text-align: right;\">\n",
       "      <th></th>\n",
       "      <th>prediction_Grupos</th>\n",
       "      <th>0.0</th>\n",
       "      <th>1.0</th>\n",
       "    </tr>\n",
       "  </thead>\n",
       "  <tbody>\n",
       "    <tr>\n",
       "      <th>1</th>\n",
       "      <td>0.0</td>\n",
       "      <td>1290364</td>\n",
       "      <td>78059</td>\n",
       "    </tr>\n",
       "    <tr>\n",
       "      <th>0</th>\n",
       "      <td>1.0</td>\n",
       "      <td>95717</td>\n",
       "      <td>1295608</td>\n",
       "    </tr>\n",
       "  </tbody>\n",
       "</table>\n",
       "</div>"
      ],
      "text/plain": [
       "  prediction_Grupos      0.0      1.0\n",
       "1               0.0  1290364    78059\n",
       "0               1.0    95717  1295608"
      ]
     },
     "execution_count": 193,
     "metadata": {},
     "output_type": "execute_result"
    }
   ],
   "source": [
    "#confusion matrix\n",
    "cm_dt_result = predictionAndLabels_1.crosstab(\"prediction\", \"Grupos\")\n",
    "cm_dt_result = cm_dt_result.toPandas()\n",
    "cm_dt_result.sort_values(by = ['prediction_Grupos'])"
   ]
  },
  {
   "cell_type": "code",
   "execution_count": 47,
   "id": "f683022d",
   "metadata": {},
   "outputs": [
    {
     "name": "stderr",
     "output_type": "stream",
     "text": [
      "                                                                                \r"
     ]
    },
    {
     "data": {
      "image/png": "[encoded data removed]",
      "text/plain": [
       "<Figure size 504x504 with 1 Axes>"
      ]
     },
     "metadata": {
      "needs_background": "light"
     },
     "output_type": "display_data"
    }
   ],
   "source": [
    "from pyspark.mllib.evaluation import MulticlassMetrics\n",
    "from pyspark.sql.types import FloatType\n",
    "#select only prediction and label columns\n",
    "labels = [0, 1]\n",
    "\n",
    "# important: need to cast to float type, and order by prediction, else it won't work\n",
    "preds_and_labels = predictionAndLabels_1.select(['prediction','Grupos']).withColumn('Grupos', col('Grupos').cast(FloatType())).orderBy('prediction')\n",
    "# generate metrics\n",
    "metrics_20 = MulticlassMetrics(preds_and_labels.rdd.map(tuple))\n",
    "\n",
    "# figure object\n",
    "_ = plt.figure(figsize=(7, 7))\n",
    "\n",
    "# plot confusion matrix\n",
    "sns.heatmap(metrics_20.confusionMatrix().toArray(),\n",
    "            cmap='viridis',\n",
    "            annot=True,fmt='0',\n",
    "            cbar=False, \n",
    "            xticklabels=labels, \n",
    "            yticklabels=labels)\n",
    "plt.show()"
   ]
  },
  {
   "cell_type": "code",
   "execution_count": 54,
   "id": "3fd81542",
   "metadata": {},
   "outputs": [],
   "source": [
    "import pyspark.sql.functions as F\n",
    "def classification_report_pyspark(metrics_multiclass,preds_and_labels, labels_list):\n",
    "    #import math\n",
    "    columns = ['target_class', 'precision', 'recall', 'f1-score', 'support']\n",
    "\n",
    "    data = []\n",
    "    for i in labels_list:\n",
    "        support = preds_and_labels.where('Grupos = ' + str(i)).count()\n",
    "        data.append((str(i), float(np.round(metrics_multiclass.precision(label = i),3)), \n",
    "                     float(np.round(metrics_multiclass.recall(label = i), 3)), \n",
    "                     float(np.round(metrics_multiclass.fMeasure(i), 3)), support)), \n",
    "\n",
    "    data.append(('weighted avg', float(np.round(metrics_multiclass.weightedPrecision, 3)), \n",
    "                                 float(np.round(metrics_multiclass.weightedRecall, 3)), \n",
    "                                   float(np.round(metrics_multiclass.weightedFMeasure(), 3)), preds_and_labels.count() ))\n",
    "    class_rep = spark.createDataFrame(data, columns)\n",
    "    return class_rep"
   ]
  },
  {
   "cell_type": "code",
   "execution_count": 55,
   "id": "9c1de8c6",
   "metadata": {},
   "outputs": [
    {
     "name": "stderr",
     "output_type": "stream",
     "text": [
      "                                                                                \r"
     ]
    }
   ],
   "source": [
    "class_rep = classification_report_pyspark(metrics_20, preds_and_labels, [0.0, 1.0])"
   ]
  },
  {
   "cell_type": "code",
   "execution_count": 56,
   "id": "07afda35",
   "metadata": {},
   "outputs": [
    {
     "name": "stdout",
     "output_type": "stream",
     "text": [
      "+------------+---------+------+--------+-------+\n",
      "|target_class|precision|recall|f1-score|support|\n",
      "+------------+---------+------+--------+-------+\n",
      "|         0.0|    0.943| 0.931|   0.937|1386081|\n",
      "|         1.0|    0.931| 0.943|   0.937|1373667|\n",
      "|weighted avg|    0.937| 0.937|   0.937|2759748|\n",
      "+------------+---------+------+--------+-------+\n",
      "\n"
     ]
    }
   ],
   "source": [
    "class_rep.show()"
   ]
  },
  {
   "cell_type": "code",
   "execution_count": 57,
   "id": "9bfe10ba",
   "metadata": {},
   "outputs": [
    {
     "name": "stdout",
     "output_type": "stream",
     "text": [
      "Accuracy:  0.9370319319010286\n"
     ]
    }
   ],
   "source": [
    "print(\"Accuracy: \",metrics_20.accuracy)"
   ]
  },
  {
   "cell_type": "markdown",
   "id": "eab5e461",
   "metadata": {},
   "source": [
    "### Modelo 2 Arboles de decisión profundidad máxima 24 "
   ]
  },
  {
   "cell_type": "code",
   "execution_count": 58,
   "id": "ac3480a4",
   "metadata": {},
   "outputs": [
    {
     "data": {
      "text/plain": [
       "DecisionTreeClassifier_51310176d572"
      ]
     },
     "execution_count": 58,
     "metadata": {},
     "output_type": "execute_result"
    }
   ],
   "source": [
    "from pyspark.ml.classification import DecisionTreeClassifier\n",
    "params_2 = {'maxDepth':24}\n",
    "\n",
    "dTree_classifier_2 = DecisionTreeClassifier(**params_2, seed= 13,featuresCol = 'standardized', labelCol = 'Grupos')\n",
    "dTree_classifier_2"
   ]
  },
  {
   "cell_type": "code",
   "execution_count": 59,
   "id": "fb0e968d",
   "metadata": {},
   "outputs": [
    {
     "name": "stderr",
     "output_type": "stream",
     "text": [
      "                                                                                \r"
     ]
    }
   ],
   "source": [
    "\n",
    "dTree_model_2 = dTree_classifier_2.fit(trainingData)"
   ]
  },
  {
   "cell_type": "code",
   "execution_count": 60,
   "id": "510f0867",
   "metadata": {},
   "outputs": [],
   "source": [
    "predictionAndLabels_2 = dTree_model_2.transform(testData)"
   ]
  },
  {
   "cell_type": "code",
   "execution_count": 61,
   "id": "4cb4442a",
   "metadata": {},
   "outputs": [
    {
     "name": "stderr",
     "output_type": "stream",
     "text": [
      "[Stage 353:==================================================>    (53 + 5) / 58]\r"
     ]
    },
    {
     "name": "stdout",
     "output_type": "stream",
     "text": [
      "0.9632301981717973\n"
     ]
    },
    {
     "name": "stderr",
     "output_type": "stream",
     "text": [
      "\r",
      "[Stage 353:======================================================>(57 + 1) / 58]\r",
      "\r",
      "                                                                                \r"
     ]
    }
   ],
   "source": [
    "from pyspark.ml.evaluation import BinaryClassificationEvaluator\n",
    "eval = BinaryClassificationEvaluator(rawPredictionCol = \"prediction\", labelCol = \"Grupos\",metricName='areaUnderROC')\n",
    "auc_dc2 = eval.evaluate(predictionAndLabels_2)\n",
    "print(auc_dc2)"
   ]
  },
  {
   "cell_type": "code",
   "execution_count": 62,
   "id": "7dcc55c6",
   "metadata": {},
   "outputs": [
    {
     "name": "stderr",
     "output_type": "stream",
     "text": [
      "                                                                                \r"
     ]
    },
    {
     "data": {
      "image/png": "[encoded data removed]",
      "text/plain": [
       "<Figure size 504x504 with 1 Axes>"
      ]
     },
     "metadata": {
      "needs_background": "light"
     },
     "output_type": "display_data"
    }
   ],
   "source": [
    "from pyspark.mllib.evaluation import MulticlassMetrics\n",
    "from pyspark.sql.types import FloatType\n",
    "#select only prediction and label columns\n",
    "labels = [0, 1]\n",
    "\n",
    "# important: need to cast to float type, and order by prediction, else it won't work\n",
    "preds_and_labels = predictionAndLabels_2.select(['prediction','Grupos']).withColumn('Grupos', col('Grupos').cast(FloatType())).orderBy('prediction')\n",
    "# generate metrics\n",
    "metrics_24 = MulticlassMetrics(preds_and_labels.rdd.map(tuple))\n",
    "\n",
    "# figure object\n",
    "_ = plt.figure(figsize=(7, 7))\n",
    "\n",
    "# plot confusion matrix\n",
    "sns.heatmap(metrics_24.confusionMatrix().toArray(),\n",
    "            cmap='viridis',\n",
    "            annot=True,fmt='0',\n",
    "            cbar=False, \n",
    "            xticklabels=labels, \n",
    "            yticklabels=labels)\n",
    "plt.show()"
   ]
  },
  {
   "cell_type": "code",
   "execution_count": 63,
   "id": "7cd339bd",
   "metadata": {},
   "outputs": [
    {
     "name": "stderr",
     "output_type": "stream",
     "text": [
      "                                                                                \r"
     ]
    }
   ],
   "source": [
    "class_rep = classification_report_pyspark(metrics_24, preds_and_labels, [0.0, 1.0])"
   ]
  },
  {
   "cell_type": "code",
   "execution_count": 64,
   "id": "9604e4ba",
   "metadata": {},
   "outputs": [
    {
     "name": "stdout",
     "output_type": "stream",
     "text": [
      "+------------+---------+------+--------+-------+\n",
      "|target_class|precision|recall|f1-score|support|\n",
      "+------------+---------+------+--------+-------+\n",
      "|         0.0|    0.976|  0.95|   0.963|1386081|\n",
      "|         1.0|     0.95| 0.977|   0.964|1373667|\n",
      "|weighted avg|    0.964| 0.963|   0.963|2759748|\n",
      "+------------+---------+------+--------+-------+\n",
      "\n"
     ]
    }
   ],
   "source": [
    "class_rep.show()"
   ]
  },
  {
   "cell_type": "code",
   "execution_count": 65,
   "id": "40d8837c",
   "metadata": {},
   "outputs": [
    {
     "name": "stdout",
     "output_type": "stream",
     "text": [
      "Accuracy:  0.9631687385949732\n"
     ]
    }
   ],
   "source": [
    "print(\"Accuracy: \",metrics_24.accuracy)"
   ]
  },
  {
   "cell_type": "markdown",
   "id": "2eaaccc3",
   "metadata": {},
   "source": [
    "### Modelo 3 Arboles de decisión profundidad máxima 30 "
   ]
  },
  {
   "cell_type": "code",
   "execution_count": 66,
   "id": "8026c701",
   "metadata": {},
   "outputs": [
    {
     "data": {
      "text/plain": [
       "DecisionTreeClassifier_171b16bad13d"
      ]
     },
     "execution_count": 66,
     "metadata": {},
     "output_type": "execute_result"
    }
   ],
   "source": [
    "from pyspark.ml.classification import DecisionTreeClassifier\n",
    "params_3 = {'maxDepth':30}\n",
    "\n",
    "dTree_classifier_3 = DecisionTreeClassifier(**params_3, seed= 13,featuresCol = 'standardized', labelCol = 'Grupos')\n",
    "dTree_classifier_3"
   ]
  },
  {
   "cell_type": "code",
   "execution_count": 67,
   "id": "91f4abd3",
   "metadata": {},
   "outputs": [
    {
     "name": "stderr",
     "output_type": "stream",
     "text": [
      "                                                                                \r"
     ]
    }
   ],
   "source": [
    "dTree_model_3 = dTree_classifier_3.fit(trainingData)"
   ]
  },
  {
   "cell_type": "code",
   "execution_count": 68,
   "id": "5df4e1ad",
   "metadata": {},
   "outputs": [],
   "source": [
    "predictionAndLabels_3 = dTree_model_3.transform(testData)"
   ]
  },
  {
   "cell_type": "code",
   "execution_count": 69,
   "id": "ee31ed3e",
   "metadata": {},
   "outputs": [
    {
     "name": "stderr",
     "output_type": "stream",
     "text": [
      "[Stage 501:=====================================================> (56 + 2) / 58]\r"
     ]
    },
    {
     "name": "stdout",
     "output_type": "stream",
     "text": [
      "0.97702259496923\n"
     ]
    },
    {
     "name": "stderr",
     "output_type": "stream",
     "text": [
      "\r",
      "                                                                                \r"
     ]
    }
   ],
   "source": [
    "from pyspark.ml.evaluation import BinaryClassificationEvaluator\n",
    "eval = BinaryClassificationEvaluator(rawPredictionCol = \"prediction\", labelCol = \"Grupos\",metricName='areaUnderROC')\n",
    "auc_dc3 = eval.evaluate(predictionAndLabels_3)\n",
    "print(auc_dc3)"
   ]
  },
  {
   "cell_type": "code",
   "execution_count": 70,
   "id": "90db0ac7",
   "metadata": {},
   "outputs": [
    {
     "name": "stderr",
     "output_type": "stream",
     "text": [
      "                                                                                \r"
     ]
    },
    {
     "data": {
      "image/png": "[encoded data removed]",
      "text/plain": [
       "<Figure size 504x504 with 1 Axes>"
      ]
     },
     "metadata": {
      "needs_background": "light"
     },
     "output_type": "display_data"
    }
   ],
   "source": [
    "from pyspark.mllib.evaluation import MulticlassMetrics\n",
    "from pyspark.sql.types import FloatType\n",
    "#select only prediction and label columns\n",
    "labels = [0, 1]\n",
    "\n",
    "# important: need to cast to float type, and order by prediction, else it won't work\n",
    "preds_and_labels = predictionAndLabels_3.select(['prediction','Grupos']).withColumn('Grupos', col('Grupos').cast(FloatType())).orderBy('prediction')\n",
    "# generate metrics\n",
    "metrics_30 = MulticlassMetrics(preds_and_labels.rdd.map(tuple))\n",
    "\n",
    "# figure object\n",
    "_ = plt.figure(figsize=(7, 7))\n",
    "\n",
    "# plot confusion matrix\n",
    "sns.heatmap(metrics_30.confusionMatrix().toArray(),\n",
    "            cmap='viridis',\n",
    "            annot=True,fmt='0',\n",
    "            cbar=False, \n",
    "            xticklabels=labels, \n",
    "            yticklabels=labels)\n",
    "plt.show()"
   ]
  },
  {
   "cell_type": "code",
   "execution_count": 71,
   "id": "02a825d2",
   "metadata": {},
   "outputs": [
    {
     "name": "stderr",
     "output_type": "stream",
     "text": [
      "                                                                                \r"
     ]
    }
   ],
   "source": [
    "class_rep = classification_report_pyspark(metrics_30, preds_and_labels, [0.0, 1.0])"
   ]
  },
  {
   "cell_type": "code",
   "execution_count": 72,
   "id": "9f15eb77",
   "metadata": {},
   "outputs": [
    {
     "name": "stdout",
     "output_type": "stream",
     "text": [
      "+------------+---------+------+--------+-------+\n",
      "|target_class|precision|recall|f1-score|support|\n",
      "+------------+---------+------+--------+-------+\n",
      "|         0.0|     0.99| 0.964|   0.977|1386081|\n",
      "|         1.0|    0.965|  0.99|   0.977|1373667|\n",
      "|weighted avg|    0.977| 0.977|   0.977|2759748|\n",
      "+------------+---------+------+--------+-------+\n",
      "\n"
     ]
    }
   ],
   "source": [
    "class_rep.show()"
   ]
  },
  {
   "cell_type": "code",
   "execution_count": 75,
   "id": "0e778a97",
   "metadata": {},
   "outputs": [
    {
     "name": "stdout",
     "output_type": "stream",
     "text": [
      "Accuracy:  0.9769652881350036\n"
     ]
    }
   ],
   "source": [
    "print(\"Accuracy: \",metrics_30.accuracy)"
   ]
  },
  {
   "cell_type": "markdown",
   "id": "24d4c89f",
   "metadata": {},
   "source": [
    "### Mejor modelo"
   ]
  },
  {
   "cell_type": "markdown",
   "id": "1cdb445b",
   "metadata": {},
   "source": [
    "EL mejor modelo es el modelo con 30 de max depth usando arboles de decisión\n",
    "\n",
    "\n",
    "Qué porcentaje de predicciones fue correcta?\n",
    "\n",
    "La exactitud (accuracy) es (0.97) es decir el 97% de las predicciones fueron correctas\n",
    "\n",
    "¿Qué porcentaje de predicciones positivas fueron correctas? \n",
    "\n",
    "La precisión (precisión) 97% para los contratos que tienen adiciones en porcentaje superior al 50% de la cuantiá del contrato y de 99% para los contratos con adiciones inferiores o iguales al 50% de la cuantiá del contrato. El modelo es levemente mas preciso para los contratos sin adiciones superiores al 50%.\n",
    "\n",
    "¿Qué porcentaje de casos positivos fueron capturados? \n",
    "\n",
    "La recuperación (recall) 99% para los contratos que tienen adiciones en porcentaje superior al 50% de la cuantiá del contrato y de 97% para los contratos con adiciones inferiores o iguales al 50% de la cuantiá del contrato. El modelo es levemente mejor para capturar los contratos con adiciones superiores al 50%.\n",
    "\n",
    "El f1-score hace un balance entre precisión y recall cuando los valores de precisión y recall son más altos mutuamente, el valor de f1-score tiende a ser más alto. Tenemos un f1 general de 97% por lo que el modelo es muy bueno para separar las dos clases correctamente.\n",
    "\n",
    "\n",
    "El AUC es 0.98 significa que hay 98% de probabilidad de que el modelo pueda distinguir entre la clase positiva y clase negativa.\n",
    "\n",
    "Este modelo presenta un recall mejor que los modelos anteriores identificando mejor los contratos que exceden el 50% en adiciones de la cuantiá del contrato con una mejora de 97 a 99% comparado con el modelo anterior, por otra parte todas las métricas son lo suficientemente altas mostrando un modelo bastante robusto y adecuado para realizar las predicciones."
   ]
  },
  {
   "cell_type": "code",
   "execution_count": 77,
   "id": "a33bbe54",
   "metadata": {},
   "outputs": [],
   "source": [
    "dat=['Tipo de Proceso',\n",
    " 'Objeto a Contratar',\n",
    " 'Tipo de Contrato',\n",
    " 'Nombre de la Entidad',\n",
    " 'Nombre Grupo',\n",
    " 'Nombre Clase',\n",
    " 'Plazo de Ejec del Contrato',\n",
    " 'Rango de Ejec del Contrato',\n",
    " 'Cuantia Contrato',\n",
    " 'Origen de los Recursos',\n",
    " 'Municipio Entidad',\n",
    " 'Departamento Entidad']"
   ]
  },
  {
   "cell_type": "markdown",
   "id": "9e74873f",
   "metadata": {},
   "source": [
    "### Variables mas importantes"
   ]
  },
  {
   "cell_type": "code",
   "execution_count": 78,
   "id": "c4a36889",
   "metadata": {},
   "outputs": [
    {
     "data": {
      "text/plain": [
       "{'Tipo de Proceso': 6.09,\n",
       " 'Objeto a Contratar': 8.65,\n",
       " 'Tipo de Contrato': 2.82,\n",
       " 'Nombre de la Entidad': 18.78,\n",
       " 'Nombre Grupo': 0.99,\n",
       " 'Nombre Clase': 5.44,\n",
       " 'Plazo de Ejec del Contrato': 10.85,\n",
       " 'Rango de Ejec del Contrato': 1.18,\n",
       " 'Cuantia Contrato': 2.65,\n",
       " 'Origen de los Recursos': 25.68,\n",
       " 'Municipio Entidad': 4.82,\n",
       " 'Departamento Entidad': 12.05}"
      ]
     },
     "execution_count": 78,
     "metadata": {},
     "output_type": "execute_result"
    }
   ],
   "source": [
    "feature_imp = dict(zip(dat, np.round(dTree_model_3.featureImportances.toArray()*100,2)))\n",
    "feature_imp"
   ]
  },
  {
   "cell_type": "code",
   "execution_count": 116,
   "id": "20f02f21",
   "metadata": {},
   "outputs": [
    {
     "data": {
      "image/png": "[encoded data removed]",
      "text/plain": [
       "<Figure size 2520x576 with 1 Axes>"
      ]
     },
     "metadata": {
      "needs_background": "light"
     },
     "output_type": "display_data"
    }
   ],
   "source": [
    "from matplotlib import pyplot as plt\n",
    "from matplotlib.ticker import PercentFormatter\n",
    "plt.figure(figsize= (35,8))\n",
    "total = np.sum(list(feature_imp.values()))\n",
    "plt.bar(feature_imp.keys(), [v/total for v in feature_imp.values()], color='salmon')\n",
    "plt.gca().yaxis.set_major_formatter(PercentFormatter(xmax=1, decimals=0))\n",
    "plt.grid(axis='y')\n",
    "plt.show()"
   ]
  },
  {
   "cell_type": "markdown",
   "id": "758537c6",
   "metadata": {},
   "source": [
    "Para este modelo la variable mas importante es el origen de los recursos, seguida del nombre de la entidad, el departamento de la entidad, el plazo de ejecucion del contrato, el objeto a contratar, el tipo de proceso, el nombre de la clase, el municipio de la entidad y en menor medida de importancia el tipo de contrato, la cuantia del contrato, el rango de ejecucion del contrato, y el nombre de grupo."
   ]
  },
  {
   "cell_type": "markdown",
   "id": "b614d92f",
   "metadata": {},
   "source": [
    "### Feature Pipeline"
   ]
  },
  {
   "cell_type": "code",
   "execution_count": 84,
   "id": "d34f307d",
   "metadata": {},
   "outputs": [],
   "source": [
    "data_train=trainingData.select(dat)"
   ]
  },
  {
   "cell_type": "code",
   "execution_count": 85,
   "id": "d726ea59",
   "metadata": {},
   "outputs": [
    {
     "name": "stdout",
     "output_type": "stream",
     "text": [
      "root\n",
      " |-- Tipo de Proceso: string (nullable = true)\n",
      " |-- Objeto a Contratar: string (nullable = true)\n",
      " |-- Tipo de Contrato: string (nullable = true)\n",
      " |-- Nombre de la Entidad: string (nullable = true)\n",
      " |-- Nombre Grupo: string (nullable = true)\n",
      " |-- Nombre Clase: string (nullable = true)\n",
      " |-- Plazo de Ejec del Contrato: integer (nullable = true)\n",
      " |-- Rango de Ejec del Contrato: string (nullable = true)\n",
      " |-- Cuantia Contrato: integer (nullable = true)\n",
      " |-- Origen de los Recursos: string (nullable = true)\n",
      " |-- Municipio Entidad: string (nullable = true)\n",
      " |-- Departamento Entidad: string (nullable = true)\n",
      "\n"
     ]
    }
   ],
   "source": [
    "data_train.printSchema()"
   ]
  },
  {
   "cell_type": "code",
   "execution_count": 86,
   "id": "e7057abd",
   "metadata": {},
   "outputs": [
    {
     "name": "stderr",
     "output_type": "stream",
     "text": [
      "                                                                                \r"
     ]
    }
   ],
   "source": [
    "\n",
    "feature_pipe = Pipeline(stages=[partPipeline,assemble,scale]).fit(data_train)\n"
   ]
  },
  {
   "cell_type": "markdown",
   "id": "53f3047f",
   "metadata": {},
   "source": [
    "#### Se guarda el modelo"
   ]
  },
  {
   "cell_type": "code",
   "execution_count": null,
   "id": "926b2336",
   "metadata": {},
   "outputs": [],
   "source": [
    "feature_pipe = Pipeline(stages=[partPipeline,assemble,scale]).fit(data_train)\n",
    "\n"
   ]
  },
  {
   "cell_type": "code",
   "execution_count": 89,
   "id": "af131534",
   "metadata": {},
   "outputs": [],
   "source": [
    "\n",
    "#Save the model\n",
    "\n",
    "feature_pipe_model.save('pipeline_model')\n",
    "\n",
    "#Save the model\n",
    "\n",
    "dTree_model_3.save('model_dct')"
   ]
  },
  {
   "cell_type": "code",
   "execution_count": null,
   "id": "88757df0",
   "metadata": {},
   "outputs": [],
   "source": []
  }
 ],
 "metadata": {
  "kernelspec": {
   "display_name": "maq",
   "language": "python",
   "name": "myenv"
  },
  "language_info": {
   "codemirror_mode": {
    "name": "ipython",
    "version": 3
   },
   "file_extension": ".py",
   "mimetype": "text/x-python",
   "name": "python",
   "nbconvert_exporter": "python",
   "pygments_lexer": "ipython3",
   "version": "3.9.16"
  }
 },
 "nbformat": 4,
 "nbformat_minor": 5
}
