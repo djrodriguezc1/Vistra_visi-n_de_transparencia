{
 "cells": [
  {
   "cell_type": "code",
   "execution_count": 10,
   "id": "4c7f8abd",
   "metadata": {},
   "outputs": [],
   "source": [
    "from pyspark.sql import SparkSession\n",
    "from pyspark.ml.pipeline import PipelineModel\n",
    "from pyspark.ml.classification import DecisionTreeClassificationModel\n",
    "from pyspark.ml.linalg import Vectors\n",
    "from pyspark.sql.types import IntegerType\n",
    "from pyspark.sql.functions import regexp_replace\n",
    "#DecisionTreeClassifier\n"
   ]
  },
  {
   "cell_type": "code",
   "execution_count": 2,
   "id": "b269dc42",
   "metadata": {},
   "outputs": [
    {
     "name": "stderr",
     "output_type": "stream",
     "text": [
      "Picked up _JAVA_OPTIONS: -Xmx12288m\n",
      "Picked up _JAVA_OPTIONS: -Xmx12288m\n",
      "23/05/23 04:07:33 WARN Utils: Your hostname, joanPC resolves to a loopback address: 127.0.1.1; using 192.168.1.201 instead (on interface wlo1)\n",
      "23/05/23 04:07:33 WARN Utils: Set SPARK_LOCAL_IP if you need to bind to another address\n",
      "Setting default log level to \"WARN\".\n",
      "To adjust logging level use sc.setLogLevel(newLevel). For SparkR, use setLogLevel(newLevel).\n",
      "23/05/23 04:07:34 WARN NativeCodeLoader: Unable to load native-hadoop library for your platform... using builtin-java classes where applicable\n"
     ]
    }
   ],
   "source": [
    "feature_pipe = PipelineModel.load('feature_pipe')\n",
    "model = DecisionTreeClassificationModel.load('model_dct')\n",
    "spark = SparkSession.builder.master('local').appName('deployPyspark').getOrCreate\n"
   ]
  },
  {
   "cell_type": "code",
   "execution_count": 3,
   "id": "a8e5bad3",
   "metadata": {},
   "outputs": [],
   "source": [
    "columns=['Tipo de Proceso','Objeto a Contratar','Tipo de Contrato','Nombre de la Entidad','Nombre Grupo','Nombre Clase','Plazo de Ejec del Contrato','Rango de Ejec del Contrato','Cuantia Contrato','Origen de los Recursos','Municipio Entidad','Departamento Entidad']"
   ]
  },
  {
   "cell_type": "code",
   "execution_count": 4,
   "id": "442a1e93",
   "metadata": {},
   "outputs": [
    {
     "data": {
      "text/plain": [
       "['Tipo de Proceso',\n",
       " 'Objeto a Contratar',\n",
       " 'Tipo de Contrato',\n",
       " 'Nombre de la Entidad',\n",
       " 'Nombre Grupo',\n",
       " 'Nombre Clase',\n",
       " 'Plazo de Ejec del Contrato',\n",
       " 'Rango de Ejec del Contrato',\n",
       " 'Cuantia Contrato',\n",
       " 'Origen de los Recursos',\n",
       " 'Municipio Entidad',\n",
       " 'Departamento Entidad']"
      ]
     },
     "execution_count": 4,
     "metadata": {},
     "output_type": "execute_result"
    }
   ],
   "source": [
    "columns"
   ]
  },
  {
   "cell_type": "markdown",
   "id": "001dee73",
   "metadata": {},
   "source": [
    "### Diccionario para seleccionar las caracteristicas del contrato"
   ]
  },
  {
   "cell_type": "code",
   "execution_count": null,
   "id": "415b1171",
   "metadata": {},
   "outputs": [],
   "source": [
    "tp=data_2.select('Tipo de Proceso').distinct().rdd.map(lambda x : x[0]).collect()\n",
    "oc=data_2.select('Objeto a Contratar').distinct().rdd.map(lambda x : x[0]).collect()\n",
    "tc=data_2.select('Tipo de Contrato').distinct().rdd.map(lambda x : x[0]).collect()\n",
    "\n",
    "ng=data_2.select('Nombre Grupo').distinct().rdd.map(lambda x : x[0]).collect()\n",
    "nc=data_2.select('Nombre Clase').distinct().rdd.map(lambda x : x[0]).collect()\n",
    "#plazo eject\n",
    "re=data_2.select('Rango de Ejec del Contrato').distinct().rdd.map(lambda x : x[0]).collect()\n",
    "#cuantia con\n",
    "orec=data_2.select('Origen de los Recursos').distinct().rdd.map(lambda x : x[0]).collect()\n",
    "de=data_2.select('Departamento Entidad').distinct().rdd.map(lambda x : x[0]).collect()"
   ]
  },
  {
   "cell_type": "code",
   "execution_count": 90,
   "id": "74e3f3dc",
   "metadata": {},
   "outputs": [],
   "source": [
    "dic={'tipo_proceso':tp,'objeto_contratar':oc,'tipo_contrato':tc,'nombre_grupo':ng,'nombre_clase':nc,'rango_ejec':re,\n",
    "    'origen_recursos':orec,'departamento':de}"
   ]
  },
  {
   "cell_type": "code",
   "execution_count": 96,
   "id": "24beeeb4",
   "metadata": {},
   "outputs": [],
   "source": [
    "import numpy as np\n",
    "np.save('dic.npy', dic)\n"
   ]
  },
  {
   "cell_type": "code",
   "execution_count": 105,
   "id": "afbd9009",
   "metadata": {},
   "outputs": [],
   "source": [
    "new_dict = np.load('dic.npy',allow_pickle='TRUE').item()"
   ]
  },
  {
   "cell_type": "code",
   "execution_count": 119,
   "id": "6e65b256",
   "metadata": {},
   "outputs": [],
   "source": [
    "s=new_dict['origen_recursos'][2]\n"
   ]
  },
  {
   "cell_type": "code",
   "execution_count": 125,
   "id": "07ce41a6",
   "metadata": {},
   "outputs": [
    {
     "data": {
      "text/plain": [
       "str"
      ]
     },
     "execution_count": 125,
     "metadata": {},
     "output_type": "execute_result"
    }
   ],
   "source": [
    "type(s)"
   ]
  },
  {
   "cell_type": "markdown",
   "id": "03cc0380",
   "metadata": {},
   "source": [
    "### Archivo en excel para filtrar nombre de la entidad por Municipio y el Municipio por Departamento."
   ]
  },
  {
   "cell_type": "code",
   "execution_count": 70,
   "id": "6b5376dd",
   "metadata": {},
   "outputs": [],
   "source": [
    "mundep=data_2.select('Nombre de la Entidad','Municipio Entidad','Departamento Entidad').distinct()"
   ]
  },
  {
   "cell_type": "code",
   "execution_count": 78,
   "id": "a7746156",
   "metadata": {},
   "outputs": [
    {
     "name": "stderr",
     "output_type": "stream",
     "text": [
      "                                                                                \r"
     ]
    }
   ],
   "source": [
    "\n",
    "mundep.repartition(1).write.csv(\"entidades.csv\",\n",
    "              header='True', sep='|')\n"
   ]
  },
  {
   "cell_type": "code",
   "execution_count": 81,
   "id": "f9607dd0",
   "metadata": {},
   "outputs": [],
   "source": [
    "import pandas as pd\n",
    "entidades=pd.read_csv(\"entidades2.csv\",sep='|')"
   ]
  },
  {
   "cell_type": "code",
   "execution_count": 87,
   "id": "7135f8f6",
   "metadata": {},
   "outputs": [],
   "source": [
    "en=entidades[entidades['Departamento Entidad']=='Antioquia']\n",
    "l=en['Municipio Entidad'].unique()"
   ]
  },
  {
   "cell_type": "code",
   "execution_count": null,
   "id": "2b9e10c2",
   "metadata": {},
   "outputs": [],
   "source": [
    "mune=entidades[entidades['Municipio Entidad']=='Medellin']\n",
    "lent=en['Nombre de la Entidad'].unique()"
   ]
  },
  {
   "cell_type": "code",
   "execution_count": null,
   "id": "f0b7bdc8",
   "metadata": {},
   "outputs": [],
   "source": []
  },
  {
   "cell_type": "code",
   "execution_count": 142,
   "id": "89fa2770",
   "metadata": {},
   "outputs": [
    {
     "name": "stderr",
     "output_type": "stream",
     "text": [
      "[Stage 453:=================================================>   (121 + 9) / 130]\r"
     ]
    },
    {
     "name": "stdout",
     "output_type": "stream",
     "text": [
      "+--------------------+--------------------+--------------------+--------------------+--------------------+--------------------+--------------------------+--------------------------+----------------+----------------------+-----------------+--------------------+\n",
      "|     Tipo de Proceso|  Objeto a Contratar|    Tipo de Contrato|Nombre de la Entidad|        Nombre Grupo|        Nombre Clase|Plazo de Ejec del Contrato|Rango de Ejec del Contrato|Cuantia Contrato|Origen de los Recursos|Municipio Entidad|Departamento Entidad|\n",
      "+--------------------+--------------------+--------------------+--------------------+--------------------+--------------------+--------------------------+--------------------------+----------------+----------------------+-----------------+--------------------+\n",
      "|Contratación Dire...|Organizaciones y ...|Prestación de Ser...|ANTIOQUIA  ALCALD...|       [F] Servicios|     Clubes sociales|                         4|                         M|         8800000|           No Definido|        Heliconia|           Antioquia|\n",
      "|Contratación Dire...|Servicios Educati...|Prestación de Ser...|ANTIOQUIA  ALCALD...|       [F] Servicios|         No Definido|                        10|                         M|         8000000|           No Definido|        Heliconia|           Antioquia|\n",
      "|Contratación Dire...|Servicios Polític...|Prestación de Ser...|ANTIOQUIA  ALCALD...|       [F] Servicios|Administración pú...|                         5|                         M|        23250000|  Sistema General d...|        Heliconia|           Antioquia|\n",
      "|Contratación Míni...|Servicios de Gest...|         Consultoría|ANTIOQUIA  ALCALD...|       [F] Servicios|         No Definido|                         5|                         D|         8000000|           No Definido|        Heliconia|           Antioquia|\n",
      "|Contratación Dire...|Servicios de Gest...|Prestación de Ser...|ANTIOQUIA  ALCALD...|       [F] Servicios|         No Definido|                         6|                         M|         6992500|           No Definido|        Heliconia|           Antioquia|\n",
      "|Contratación Dire...|Servicios de Viaj...|Prestación de Ser...|ANTIOQUIA  ALCALD...|       [F] Servicios|Deportes aficiona...|                        20|                         D|         2000000|           No Definido|        Heliconia|           Antioquia|\n",
      "|Contratación Míni...|Servicios de Cont...|                Obra|ANTIOQUIA  ALCALD...|       [F] Servicios|Parques jardines ...|                        30|                         D|         7637500|           No Definido|        Heliconia|           Antioquia|\n",
      "|Contratación Dire...|Servicios de Gest...|Prestación de Ser...|ANTIOQUIA  ALCALD...|       [F] Servicios|Supervisión de in...|                        94|                         D|         7452000|  Recursos Propios ...|        Heliconia|           Antioquia|\n",
      "|Contratación Dire...|Terrenos, Edifici...|         Compraventa|ANTIOQUIA  ALCALD...|[G] Terrenos, Edi...| Lotes residenciales|                         4|                         M|        40000000|           No Definido|        Heliconia|           Antioquia|\n",
      "|Contratación Dire...|Servicios de Gest...|Prestación de Ser...|ANTIOQUIA  ALCALD...|       [F] Servicios|Servicios de cons...|                         6|                         M|        12000000|           No Definido|        Heliconia|           Antioquia|\n",
      "|Contratación Dire...|Servicios de Gest...|Prestación de Ser...|ANTIOQUIA  ALCALD...|       [F] Servicios|Servicios de apoy...|                         5|                         M|         8225250|  Sistema General d...|        Heliconia|           Antioquia|\n",
      "|Contratación Dire...|  Servicios de Salud|Prestación de Ser...|ANTIOQUIA  ALCALD...|       [F] Servicios|Servicios médicos...|                         3|                         M|         5400000|           No Definido|        Heliconia|           Antioquia|\n",
      "|Contratación Dire...|Servicios Polític...|Prestación de Ser...|ANTIOQUIA  ALCALD...|       [F] Servicios|Desarrollo y serv...|                        75|                         D|         5940000|           No Definido|        Heliconia|           Antioquia|\n",
      "|Contratación Dire...|Servicios de Edif...|Prestación de Ser...|ANTIOQUIA  ALCALD...|       [F] Servicios|Servicios de mant...|                       340|                         D|        16945200|           No Definido|        Heliconia|           Antioquia|\n",
      "|Contratación Míni...|Equipos de Oficin...|          Suministro|ANTIOQUIA  ALCALD...|[E] Productos de ...|         No Definido|                         7|                         D|         1818952|           No Definido|        Heliconia|           Antioquia|\n",
      "|Contratación Dire...|  Servicios de Salud|Prestación de Ser...|ANTIOQUIA  ALCALD...|       [F] Servicios|Asuntos nutricion...|                         1|                         D|         4500000|           No Definido|        Heliconia|           Antioquia|\n",
      "|Contratación Dire...|Organizaciones y ...|Prestación de Ser...|ANTIOQUIA  ALCALD...|       [F] Servicios|         Movimientos|                        71|                         D|         2915000|  Recursos Propios ...|        Heliconia|           Antioquia|\n",
      "|Contratación Dire...|Servicios Editori...|Prestación de Ser...|ANTIOQUIA  ALCALD...|       [F] Servicios|         No Definido|                        11|                         M|         9900000|           No Definido|        Heliconia|           Antioquia|\n",
      "|Contratación Míni...|Servicios de Edif...|                Obra|ANTIOQUIA  ALCALD...|       [F] Servicios|Servicios de cons...|                        30|                         D|        18498480|           No Definido|        Heliconia|           Antioquia|\n",
      "|Contratación Dire...|Servicios Basados...|Prestación de Ser...|ANTIOQUIA  ALCALD...|       [F] Servicios|  Servicios de datos|                         3|                         M|         4998000|  Recursos Propios ...|        Heliconia|           Antioquia|\n",
      "+--------------------+--------------------+--------------------+--------------------+--------------------+--------------------+--------------------------+--------------------------+----------------+----------------------+-----------------+--------------------+\n",
      "only showing top 20 rows\n",
      "\n"
     ]
    },
    {
     "name": "stderr",
     "output_type": "stream",
     "text": [
      "\r",
      "[Stage 453:==================================================>  (125 + 5) / 130]\r",
      "\r",
      "                                                                                \r"
     ]
    }
   ],
   "source": [
    "\n",
    "from pyspark.sql.functions import col\n",
    "data_2.filter(col(\"Nombre de la Entidad\") == 'ANTIOQUIA  ALCALDÍA MUNICIPIO DE HELICONIA').show()\n",
    "\n",
    "#ANTIOQUIA ALCALDÍA MUNICIPIO DE MEDELLÍN"
   ]
  },
  {
   "cell_type": "code",
   "execution_count": 5,
   "id": "767d1100",
   "metadata": {},
   "outputs": [
    {
     "name": "stderr",
     "output_type": "stream",
     "text": [
      "                                                                                \r"
     ]
    }
   ],
   "source": [
    "spark = SparkSession.builder.getOrCreate()\n",
    "sdf = spark.read.options(inferSchema='True',\n",
    "              header='True').csv('SECOP_1_.csv')"
   ]
  },
  {
   "cell_type": "code",
   "execution_count": 16,
   "id": "825ee533",
   "metadata": {},
   "outputs": [],
   "source": [
    "data_3=sdf.withColumn(\"Cuantia Contrato\",regexp_replace(\"Cuantia Contrato\", \",\", \"\"))\n"
   ]
  },
  {
   "cell_type": "code",
   "execution_count": 17,
   "id": "51c4016d",
   "metadata": {},
   "outputs": [],
   "source": [
    "data_3 = data_3.distinct()"
   ]
  },
  {
   "cell_type": "code",
   "execution_count": 18,
   "id": "23378051",
   "metadata": {},
   "outputs": [],
   "source": [
    "data_3=data_3.na.drop(how=\"any\")"
   ]
  },
  {
   "cell_type": "code",
   "execution_count": 19,
   "id": "e4dfe891",
   "metadata": {},
   "outputs": [],
   "source": [
    "data_3=data_3.withColumn(\"Cuantia Contrato\",data_3[\"Cuantia Contrato\"].cast(IntegerType()))"
   ]
  },
  {
   "cell_type": "code",
   "execution_count": 20,
   "id": "a8840d44",
   "metadata": {},
   "outputs": [],
   "source": [
    "data_3=data_3.withColumn(\"Valor Total de Adiciones\",regexp_replace(\"Valor Total de Adiciones\", \",\", \"\"))"
   ]
  },
  {
   "cell_type": "code",
   "execution_count": 21,
   "id": "e3a2bae5",
   "metadata": {},
   "outputs": [],
   "source": [
    "data_3=data_3.withColumn(\"Valor Total de Adiciones\",data_3[\"Valor Total de Adiciones\"].cast(IntegerType()))"
   ]
  },
  {
   "cell_type": "code",
   "execution_count": 22,
   "id": "df56b3bf",
   "metadata": {},
   "outputs": [],
   "source": [
    "from pyspark.sql.functions import col\n",
    "data_3=data_3.withColumn(\"Porcentaje_Adiciones\",col(\"Valor Total de Adiciones\")/col(\"Cuantia Contrato\")*100)"
   ]
  },
  {
   "cell_type": "code",
   "execution_count": 23,
   "id": "9991bf93",
   "metadata": {},
   "outputs": [],
   "source": [
    "import pyspark.sql.functions as func\n",
    "data_3 = data_3.withColumn(\"Porcentaje_Adiciones\", func.round(data_3[\"Porcentaje_Adiciones\"], 2))"
   ]
  },
  {
   "cell_type": "code",
   "execution_count": 24,
   "id": "2a5144e1",
   "metadata": {},
   "outputs": [],
   "source": [
    "data_3=data_3.filter(col(\"Cuantia Contrato\") >= 1000000)"
   ]
  },
  {
   "cell_type": "code",
   "execution_count": 25,
   "id": "9267c298",
   "metadata": {},
   "outputs": [],
   "source": [
    "data_3=data_3.filter((col('Valor Total de Adiciones') >= 100000) | (col('Valor Total de Adiciones')==0))"
   ]
  },
  {
   "cell_type": "code",
   "execution_count": 55,
   "id": "13289e25",
   "metadata": {},
   "outputs": [],
   "source": [
    "difilt=data_3.filter((col(\"Porcentaje_Adiciones\") > 50) & (col(\"Cuantia Contrato\") >= 2000000000))"
   ]
  },
  {
   "cell_type": "code",
   "execution_count": 56,
   "id": "a10035f2",
   "metadata": {},
   "outputs": [
    {
     "name": "stderr",
     "output_type": "stream",
     "text": [
      "[Stage 72:===================================================>  (124 + 6) / 130]\r"
     ]
    },
    {
     "name": "stdout",
     "output_type": "stream",
     "text": [
      "+------------------------------------------------------------------------------------+-------------------------------------------------------+------------------------------------------------------------------------------------+-----------------------+-------------------------------------------------------------------------+-------------------------------------------+----------------------------------------------------------------+--------------------------+--------------------------+----------------+----------------------+-----------------+--------------------+--------------------+\n",
      "|Ruta Proceso en SECOP I                                                             |Tipo de Proceso                                        |Objeto a Contratar                                                                  |Tipo de Contrato       |Nombre de la Entidad                                                     |Nombre Grupo                               |Nombre Clase                                                    |Plazo de Ejec del Contrato|Rango de Ejec del Contrato|Cuantia Contrato|Origen de los Recursos|Municipio Entidad|Departamento Entidad|Porcentaje_Adiciones|\n",
      "+------------------------------------------------------------------------------------+-------------------------------------------------------+------------------------------------------------------------------------------------+-----------------------+-------------------------------------------------------------------------+-------------------------------------------+----------------------------------------------------------------+--------------------------+--------------------------+----------------+----------------------+-----------------+--------------------+--------------------+\n",
      "|https://www.contratos.gov.co/consultas/detalleProceso.do?numConstancia=17-4-7119318 |Régimen Especial                                       |Servicios de Transporte, Almacenaje y Correo                                        |Prestación de Servicios|ECOPETROL  EMPRESA COLOMBIANA DE PETRÓLEOS                               |[F] Servicios                              |Transporte de pasajeros por carretera                           |1003                      |D                         |2097664938      |No Definido           |Bogotá D.C.      |Bogotá D.C.         |57.56               |\n",
      "|https://www.contratos.gov.co/consultas/detalleProceso.do?numConstancia=15-1-146140  |Licitación Pública                                     |Servicios de Edificación, Construcción de Instalaciones y Mantenimiento             |Obra                   |ARAUCA  ALCALDÍA MUNICIPIO DE ARAUCA                                     |[F] Servicios                              |Servicios de construcción de autopistas y carreteras            |75                        |D                         |2055915899      |No Definido           |Arauca           |Arauca              |53.27               |\n",
      "|https://www.contratos.gov.co/consultas/detalleProceso.do?numConstancia=14-9-386703  |Subasta                                                |Servicios Editoriales, de Diseño, de Artes Graficas y Bellas Artes                  |Prestación de Servicios|ANTIOQUIA  GOBERNACIÓN                                                   |[F] Servicios                              |No Definido                                                     |17                        |M                         |2110040000      |No Definido           |Medellín         |Antioquia           |60.28               |\n",
      "|https://www.contratos.gov.co/consultas/detalleProceso.do?numConstancia=12-12-1276853|Contratación Directa (Ley 1150 de 2007)                |Servicios de Gestion, Servicios Profesionales de Empresa y Servicios Administrativos|Prestación de Servicios|MINISTERIO DE EDUCACIÓN NACIONAL MEN                                     |[F] Servicios                              |No Definido                                                     |269                       |D                         |2133223818      |No Definido           |Bogotá D.C.      |Bogotá D.C.         |50.74               |\n",
      "|https://www.contratos.gov.co/consultas/detalleProceso.do?numConstancia=13-1-89184   |Licitación Pública                                     |Servicios de Defensa Nacional, Orden Publico, Seguridad y Vigilancia                |Prestación de Servicios|PROCURADURÍA GENERAL DE LA NACIÓN PGN                                    |[F] Servicios                              |No Definido                                                     |207                       |D                         |2068859623      |No Definido           |Bogotá D.C.      |Bogotá D.C.         |52.23               |\n",
      "|https://www.contratos.gov.co/consultas/detalleProceso.do?numConstancia=17-4-6726984 |Régimen Especial                                       |Servicios de Salud                                                                  |Prestación de Servicios|BOGOTÁ DC  ENTIDAD PROMOTORA DE SALUD CONVIDA                            |[F] Servicios                              |Servicios de administración de salud                            |12                        |M                         |2000000000      |No Definido           |Bogotá D.C.      |Bogotá D.C.         |58.9                |\n",
      "|https://www.contratos.gov.co/consultas/detalleProceso.do?numConstancia=12-11-1200126|Selección Abreviada de Menor Cuantía (Ley 1150 de 2007)|Servicios de Viajes, Alimentación, Alojamiento y Entretenimiento                    |Prestación de Servicios|BOGOTÁ DC  SECRETARÍA DE GOBIERNO                                        |[F] Servicios                              |No Definido                                                     |165                       |D                         |2080000000      |No Definido           |Bogotá D.C.      |Bogotá D.C.         |52.01               |\n",
      "|https://www.contratos.gov.co/consultas/detalleProceso.do?numConstancia=07-1-23933   |Licitación Pública                                     |Servicios de Edificación, Construcción de Instalaciones y Mantenimiento             |Obra                   |CVS  CORPORACIÓN AUTÓNOMA REGIONAL DE LOS VALLES DEL SINÚ Y DEL SAN JORGE|[F] Servicios                              |No Definido                                                     |5                         |M                         |2133684555      |No Definido           |Montería         |Córdoba             |53.04               |\n",
      "|https://www.contratos.gov.co/consultas/detalleProceso.do?numConstancia=10-1-62045   |Licitación Pública                                     |Servicios de Edificación, Construcción de Instalaciones y Mantenimiento             |Obra                   |CESAR  ALCALDÍA MUNICIPIO DE PUEBLO BELLO                                |[F] Servicios                              |No Definido                                                     |4                         |M                         |2058138385      |No Definido           |Pueblo Bello     |Cesar               |59.04               |\n",
      "|https://www.contratos.gov.co/consultas/detalleProceso.do?numConstancia=18-1-193501  |Licitación Pública                                     |Servicios de Transporte, Almacenaje y Correo                                        |Otro Tipo de Contrato  |CORPOBOYACÁ  CORPORACIÓN AUTÓNOMA REGIONAL DE BOYACÁ                     |[F] Servicios                              |Transporte de pasajeros por carretera                           |360                       |D                         |2051558400      |Recursos propios      |Tunja            |Boyacá              |51.19               |\n",
      "|https://www.contratos.gov.co/consultas/detalleProceso.do?numConstancia=12-1-82034   |Licitación Pública                                     |Servicios de Transporte, Almacenaje y Correo                                        |Otro Tipo de Contrato  |MINISTERIO DE SALUD Y PROTECCIÓN SOCIAL MINSALUD                         |[F] Servicios                              |No Definido                                                     |23                        |M                         |2022685070      |No Definido           |Bogotá D.C.      |Bogotá D.C.         |52.16               |\n",
      "|https://www.contratos.gov.co/consultas/detalleProceso.do?numConstancia=12-12-1337850|Contratación Directa (Ley 1150 de 2007)                |Servicios Personales y Domésticos                                                   |Prestación de Servicios|BOGOTÁ DC  SECRETARÍA DE GOBIERNO                                        |[F] Servicios                              |No Definido                                                     |2                         |M                         |2080000000      |No Definido           |Bogotá D.C.      |Bogotá D.C.         |52.01               |\n",
      "|https://www.contratos.gov.co/consultas/detalleProceso.do?numConstancia=18-4-8812518 |Régimen Especial                                       |Servicios Basados en Ingeniería, Investigación y Tecnología                         |Obra                   |ANTIOQUIA  EMPRESA DE DESARROLLO URBANO EDU  MEDELLIN                    |[F] Servicios                              |Ingeniería civil                                                |150                       |D                         |2004509677      |No Definido           |Medellín         |Antioquia           |101.9               |\n",
      "|https://www.contratos.gov.co/consultas/detalleProceso.do?numConstancia=16-9-422205  |Subasta                                                |Servicios Basados en Ingeniería, Investigación y Tecnología                         |Prestación de Servicios|BOYACÁ  GOBERNACIÓN                                                      |[F] Servicios                              |Ingeniería civil                                                |30                        |D                         |2000000000      |No Definido           |Tunja            |Boyacá              |79.95               |\n",
      "|https://www.contratos.gov.co/consultas/detalleProceso.do?numConstancia=17-4-6110302 |Régimen Especial                                       |Servicios de Viajes, Alimentación, Alojamiento y Entretenimiento                    |Prestación de Servicios|META  ESE HOSPITAL DEPARTAMENTAL DE VILLAVICENCIO                        |[F] Servicios                              |Servicios de cafetería                                          |10                        |M                         |2065000000      |Recursos propios      |Villavicencio    |Meta                |51.44               |\n",
      "|https://www.contratos.gov.co/consultas/detalleProceso.do?numConstancia=13-15-1815481|Concurso de Méritos Abierto                            |Terrenos, Edificios, Estructuras y Vías                                             |Consultoría            |INSTITUTO NACIONAL DE VÍAS INVIAS                                        |[G] Terrenos, Edificios, Estructuras y vías|No Definido                                                     |315                       |D                         |2022027088      |No Definido           |Bogotá D.C.      |Bogotá D.C.         |54.4                |\n",
      "|https://www.contratos.gov.co/consultas/detalleProceso.do?numConstancia=12-4-1339430 |Régimen Especial                                       |Servicios Educativos y de Formación                                                 |Otro Tipo de Contrato  |INSTITUTO COLOMBIANO DE BIENESTAR FAMILIAR ICBF                          |[F] Servicios                              |No Definido                                                     |292                       |D                         |2123372160      |No Definido           |Bogotá D.C.      |Bogotá D.C.         |52.39               |\n",
      "|https://www.contratos.gov.co/consultas/detalleProceso.do?numConstancia=17-4-7413962 |Régimen Especial                                       |Servicios Educativos y de Formación                                                 |Otro Tipo de Contrato  |INSTITUTO COLOMBIANO DE BIENESTAR FAMILIAR ICBF                          |[F] Servicios                              |Servicios de guía educativa                                     |226                       |D                         |2147040325      |Recursos propios      |Bogotá D.C.      |Bogotá D.C.         |50.76               |\n",
      "|https://www.contratos.gov.co/consultas/detalleProceso.do?numConstancia=17-4-6118538 |Régimen Especial                                       |Servicios de Salud                                                                  |Prestación de Servicios|BOYACÁ  ESE HOSPITAL REGIONAL  DUITAMA                                   |[F] Servicios                              |Personas de soporte de prestación de servicios de salud         |5                         |M                         |2125207980      |Recursos propios      |Duitama          |Boyacá              |53.33               |\n",
      "|https://www.contratos.gov.co/consultas/detalleProceso.do?numConstancia=16-1-160109  |Licitación Pública                                     |Servicios Financieros y de Seguros                                                  |Prestación de Servicios|ANTIOQUIA  GOBERNACIÓN                                                   |[F] Servicios                              |Servicios de seguros para estructuras y propiedades y posesiones|12                        |M                         |2114503367      |Recursos propios      |Medellín         |Antioquia           |53.5                |\n",
      "+------------------------------------------------------------------------------------+-------------------------------------------------------+------------------------------------------------------------------------------------+-----------------------+-------------------------------------------------------------------------+-------------------------------------------+----------------------------------------------------------------+--------------------------+--------------------------+----------------+----------------------+-----------------+--------------------+--------------------+\n",
      "only showing top 20 rows\n",
      "\n"
     ]
    },
    {
     "name": "stderr",
     "output_type": "stream",
     "text": [
      "23/05/25 08:16:02 WARN TransportChannelHandler: Exception in connection from /192.168.1.201:45249\n",
      "java.io.IOException: Expiró el tiempo de conexión\n",
      "\tat java.base/sun.nio.ch.FileDispatcherImpl.read0(Native Method)\n",
      "\tat java.base/sun.nio.ch.SocketDispatcher.read(SocketDispatcher.java:39)\n",
      "\tat java.base/sun.nio.ch.IOUtil.readIntoNativeBuffer(IOUtil.java:276)\n",
      "\tat java.base/sun.nio.ch.IOUtil.read(IOUtil.java:233)\n",
      "\tat java.base/sun.nio.ch.IOUtil.read(IOUtil.java:223)\n",
      "\tat java.base/sun.nio.ch.SocketChannelImpl.read(SocketChannelImpl.java:356)\n",
      "\tat io.netty.buffer.PooledByteBuf.setBytes(PooledByteBuf.java:259)\n",
      "\tat io.netty.buffer.AbstractByteBuf.writeBytes(AbstractByteBuf.java:1132)\n",
      "\tat io.netty.channel.socket.nio.NioSocketChannel.doReadBytes(NioSocketChannel.java:357)\n",
      "\tat io.netty.channel.nio.AbstractNioByteChannel$NioByteUnsafe.read(AbstractNioByteChannel.java:151)\n",
      "\tat io.netty.channel.nio.NioEventLoop.processSelectedKey(NioEventLoop.java:788)\n",
      "\tat io.netty.channel.nio.NioEventLoop.processSelectedKeysOptimized(NioEventLoop.java:724)\n",
      "\tat io.netty.channel.nio.NioEventLoop.processSelectedKeys(NioEventLoop.java:650)\n",
      "\tat io.netty.channel.nio.NioEventLoop.run(NioEventLoop.java:562)\n",
      "\tat io.netty.util.concurrent.SingleThreadEventExecutor$4.run(SingleThreadEventExecutor.java:997)\n",
      "\tat io.netty.util.internal.ThreadExecutorMap$2.run(ThreadExecutorMap.java:74)\n",
      "\tat io.netty.util.concurrent.FastThreadLocalRunnable.run(FastThreadLocalRunnable.java:30)\n",
      "\tat java.base/java.lang.Thread.run(Thread.java:829)\n"
     ]
    }
   ],
   "source": [
    "\n",
    "difilt.select('Ruta Proceso en SECOP I','Tipo de Proceso','Objeto a Contratar',\n",
    "      'Tipo de Contrato','Nombre de la Entidad',\n",
    "       'Nombre Grupo', 'Nombre Clase','Plazo de Ejec del Contrato',\n",
    "        'Rango de Ejec del Contrato','Cuantia Contrato',\n",
    "       'Origen de los Recursos',  'Municipio Entidad', 'Departamento Entidad',\"Porcentaje_Adiciones\").show(truncate=False)"
   ]
  },
  {
   "cell_type": "code",
   "execution_count": null,
   "id": "484c8696",
   "metadata": {},
   "outputs": [],
   "source": []
  }
 ],
 "metadata": {
  "kernelspec": {
   "display_name": "maq",
   "language": "python",
   "name": "myenv"
  },
  "language_info": {
   "codemirror_mode": {
    "name": "ipython",
    "version": 3
   },
   "file_extension": ".py",
   "mimetype": "text/x-python",
   "name": "python",
   "nbconvert_exporter": "python",
   "pygments_lexer": "ipython3",
   "version": "3.9.16"
  }
 },
 "nbformat": 4,
 "nbformat_minor": 5
}
